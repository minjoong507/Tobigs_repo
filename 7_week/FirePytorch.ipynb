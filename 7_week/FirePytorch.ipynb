{
 "cells": [
  {
   "cell_type": "code",
   "execution_count": 1,
   "metadata": {
    "colab": {
     "base_uri": "https://localhost:8080/",
     "height": 35
    },
    "colab_type": "code",
    "executionInfo": {
     "elapsed": 1299,
     "status": "ok",
     "timestamp": 1584102668297,
     "user": {
      "displayName": "seunghyun lee",
      "photoUrl": "",
      "userId": "09013461657561931111"
     },
     "user_tz": -540
    },
    "id": "27G60dQD3-0a",
    "outputId": "c7d38de7-3e4c-4793-8936-59aebdc2f14d"
   },
   "outputs": [
    {
     "name": "stdout",
     "output_type": "stream",
     "text": [
      "/content/drive/My Drive/FireFriday\n"
     ]
    }
   ],
   "source": [
    "cd /content/drive/My Drive/FireFriday"
   ]
  },
  {
   "cell_type": "code",
   "execution_count": 2,
   "metadata": {
    "colab": {
     "base_uri": "https://localhost:8080/",
     "height": 71
    },
    "colab_type": "code",
    "executionInfo": {
     "elapsed": 3872,
     "status": "ok",
     "timestamp": 1584102677395,
     "user": {
      "displayName": "seunghyun lee",
      "photoUrl": "",
      "userId": "09013461657561931111"
     },
     "user_tz": -540
    },
    "id": "buMk0-AZ4H1a",
    "outputId": "40d14662-7e01-4d03-9321-00aa1965666a"
   },
   "outputs": [
    {
     "name": "stdout",
     "output_type": "stream",
     "text": [
      "FireKeras.ipynb    radam_submission.csv   test_df.csv.zip\n",
      "FirePytorch.ipynb  sample_submission.csv  train_df.csv\n",
      "kaggle.json        test_df.csv            train_df.csv.zip\n"
     ]
    }
   ],
   "source": [
    "ls"
   ]
  },
  {
   "cell_type": "markdown",
   "metadata": {
    "colab_type": "text",
    "id": "OVgewBSz9PH9"
   },
   "source": [
    "## 전처리..."
   ]
  },
  {
   "cell_type": "code",
   "execution_count": null,
   "metadata": {
    "colab": {},
    "colab_type": "code",
    "id": "xW9SsQzg3wHJ"
   },
   "outputs": [],
   "source": [
    "import pandas as pd\n",
    "sample_submission = pd.read_csv(\"sample_submission.csv\")\n",
    "train = pd.read_csv(\"train_df.csv\")\n",
    "test = pd.read_csv(\"test_df.csv\")"
   ]
  },
  {
   "cell_type": "code",
   "execution_count": null,
   "metadata": {
    "colab": {},
    "colab_type": "code",
    "id": "5lsAuX8z30xn"
   },
   "outputs": [],
   "source": [
    "X = train.iloc[:,1:].values / 255\n",
    "y = train.iloc[:,0].values\n",
    "X_test = test.iloc[:,1:].values / 255"
   ]
  },
  {
   "cell_type": "markdown",
   "metadata": {
    "colab_type": "text",
    "id": "DrpNoWgu9ROo"
   },
   "source": [
    "## Dataset이랑 Loader 정의하기"
   ]
  },
  {
   "cell_type": "code",
   "execution_count": null,
   "metadata": {
    "colab": {},
    "colab_type": "code",
    "id": "HlNC6shU4Ms9"
   },
   "outputs": [],
   "source": [
    "from torch.utils.data import Dataset, DataLoader\n",
    "\n",
    "class TrainDataset(Dataset):\n",
    "    def __init__(self, X, y, transform=None):\n",
    "        self.X = X\n",
    "        self.y = y\n",
    "        self.transform = transform\n",
    "    \n",
    "    def __len__(self):\n",
    "        return len(self.X)\n",
    "    \n",
    "    def __getitem__(self, idx):\n",
    "        X = self.X[idx]\n",
    "        y = self.y[idx]\n",
    "        return X, y\n",
    "\n",
    "class TestDataset(Dataset):\n",
    "    def __init__(self, X, y, transform=None):\n",
    "        self.X = X\n",
    "        self.y = y\n",
    "        self.transform = transform\n",
    "    \n",
    "    def __len__(self):\n",
    "        return len(self.X)\n",
    "    \n",
    "    def __getitem__(self, idx):\n",
    "        X = self.X[idx]\n",
    "        return X"
   ]
  },
  {
   "cell_type": "code",
   "execution_count": null,
   "metadata": {
    "colab": {},
    "colab_type": "code",
    "id": "r_OGjc665LQs"
   },
   "outputs": [],
   "source": [
    "traindataloader = DataLoader(TrainDataset(X, y), batch_size=128, shuffle=True, num_workers=4)\n",
    "testdataloader = DataLoader(TestDataset(X_test, y=None), batch_size=4, shuffle=False, num_workers=4)"
   ]
  },
  {
   "cell_type": "code",
   "execution_count": null,
   "metadata": {
    "colab": {},
    "colab_type": "code",
    "id": "HkBDDxFw5lPN"
   },
   "outputs": [],
   "source": [
    "import torch.nn as nn\n",
    "import torch.nn.functional as F\n",
    "import torch\n",
    "\n",
    "class Net(nn.Module):\n",
    "    def __init__(self):\n",
    "        super(Net, self).__init__()\n",
    "        self.fc1 = nn.Linear(784, 512)\n",
    "        self.fc2 = nn.Linear(512, 256)\n",
    "        self.fc3 = nn.Linear(256, 128)\n",
    "        self.fc4 = nn.Linear(128, 10)\n",
    "        self.elu = nn.ELU()\n",
    "        self.dropout1 = torch.nn.Dropout(p=0.2)\n",
    "        self.dropout2 = torch.nn.Dropout(p=0.2)\n",
    "\n",
    "    def forward(self, x):\n",
    "        x = self.fc1(x)\n",
    "        x = self.fc2(F.relu(x))\n",
    "        x = self.dropout1(x)\n",
    "        x = self.fc3(self.elu(x))\n",
    "        x = self.dropout2(x)\n",
    "        x = self.fc4(x)\n",
    "        return x\n",
    "\n",
    "net = Net()"
   ]
  },
  {
   "cell_type": "code",
   "execution_count": 32,
   "metadata": {
    "colab": {
     "base_uri": "https://localhost:8080/",
     "height": 179
    },
    "colab_type": "code",
    "executionInfo": {
     "elapsed": 1056,
     "status": "ok",
     "timestamp": 1584103975766,
     "user": {
      "displayName": "seunghyun lee",
      "photoUrl": "",
      "userId": "09013461657561931111"
     },
     "user_tz": -540
    },
    "id": "51YCytYe9BBO",
    "outputId": "4b663cd1-bdb0-45dc-8cb6-3196873f5162"
   },
   "outputs": [
    {
     "data": {
      "text/plain": [
       "Net(\n",
       "  (fc1): Linear(in_features=784, out_features=512, bias=True)\n",
       "  (fc2): Linear(in_features=512, out_features=256, bias=True)\n",
       "  (fc3): Linear(in_features=256, out_features=128, bias=True)\n",
       "  (fc4): Linear(in_features=128, out_features=10, bias=True)\n",
       "  (elu): ELU(alpha=1.0)\n",
       "  (dropout1): Dropout(p=0.2, inplace=False)\n",
       "  (dropout2): Dropout(p=0.2, inplace=False)\n",
       ")"
      ]
     },
     "execution_count": 32,
     "metadata": {
      "tags": []
     },
     "output_type": "execute_result"
    }
   ],
   "source": [
    "net"
   ]
  },
  {
   "cell_type": "code",
   "execution_count": null,
   "metadata": {
    "colab": {},
    "colab_type": "code",
    "id": "0Tna0OAr9GY9"
   },
   "outputs": [],
   "source": [
    "import torch.optim as optim\n",
    "\n",
    "criterion = nn.CrossEntropyLoss()\n",
    "optimizer = optim.Adam(net.parameters(), lr=2e-3, weight_decay=1e-3)"
   ]
  },
  {
   "cell_type": "code",
   "execution_count": 37,
   "metadata": {
    "colab": {
     "base_uri": "https://localhost:8080/",
     "height": 35
    },
    "colab_type": "code",
    "executionInfo": {
     "elapsed": 1194,
     "status": "ok",
     "timestamp": 1584104406610,
     "user": {
      "displayName": "seunghyun lee",
      "photoUrl": "",
      "userId": "09013461657561931111"
     },
     "user_tz": -540
    },
    "id": "PpxC0Avr-YjR",
    "outputId": "e1e47ba7-79cb-444c-e848-0c814f60953f"
   },
   "outputs": [
    {
     "data": {
      "text/plain": [
       "device(type='cuda', index=0)"
      ]
     },
     "execution_count": 37,
     "metadata": {
      "tags": []
     },
     "output_type": "execute_result"
    }
   ],
   "source": [
    "device = torch.device(\"cuda:0\" if torch.cuda.is_available() else \"cpu\")\n",
    "device"
   ]
  },
  {
   "cell_type": "code",
   "execution_count": 38,
   "metadata": {
    "colab": {
     "base_uri": "https://localhost:8080/",
     "height": 179
    },
    "colab_type": "code",
    "executionInfo": {
     "elapsed": 9913,
     "status": "ok",
     "timestamp": 1584104439244,
     "user": {
      "displayName": "seunghyun lee",
      "photoUrl": "",
      "userId": "09013461657561931111"
     },
     "user_tz": -540
    },
    "id": "UEXzzE9q-yLE",
    "outputId": "f37b3f94-9fda-45dd-d24f-b9a0a07c68dc"
   },
   "outputs": [
    {
     "data": {
      "text/plain": [
       "Net(\n",
       "  (fc1): Linear(in_features=784, out_features=512, bias=True)\n",
       "  (fc2): Linear(in_features=512, out_features=256, bias=True)\n",
       "  (fc3): Linear(in_features=256, out_features=128, bias=True)\n",
       "  (fc4): Linear(in_features=128, out_features=10, bias=True)\n",
       "  (elu): ELU(alpha=1.0)\n",
       "  (dropout1): Dropout(p=0.2, inplace=False)\n",
       "  (dropout2): Dropout(p=0.2, inplace=False)\n",
       ")"
      ]
     },
     "execution_count": 38,
     "metadata": {
      "tags": []
     },
     "output_type": "execute_result"
    }
   ],
   "source": [
    "net.to(device)"
   ]
  },
  {
   "cell_type": "code",
   "execution_count": 46,
   "metadata": {
    "colab": {
     "base_uri": "https://localhost:8080/",
     "height": 487
    },
    "colab_type": "code",
    "executionInfo": {
     "elapsed": 50271,
     "status": "ok",
     "timestamp": 1584104895179,
     "user": {
      "displayName": "seunghyun lee",
      "photoUrl": "",
      "userId": "09013461657561931111"
     },
     "user_tz": -540
    },
    "id": "sGsgocCJ-EdX",
    "outputId": "76f03a05-628c-46c6-8a93-5cb6d2744e0f"
   },
   "outputs": [
    {
     "name": "stderr",
     "output_type": "stream",
     "text": [
      "/usr/local/lib/python3.6/dist-packages/ipykernel_launcher.py:7: UserWarning: To copy construct from a tensor, it is recommended to use sourceTensor.clone().detach() or sourceTensor.clone().detach().requires_grad_(True), rather than torch.tensor(sourceTensor).\n",
      "  import sys\n",
      "/usr/local/lib/python3.6/dist-packages/ipykernel_launcher.py:8: UserWarning: To copy construct from a tensor, it is recommended to use sourceTensor.clone().detach() or sourceTensor.clone().detach().requires_grad_(True), rather than torch.tensor(sourceTensor).\n",
      "  \n"
     ]
    },
    {
     "name": "stdout",
     "output_type": "stream",
     "text": [
      "Epoch : 0 loss: 1.891492336988449\n",
      "Epoch : 1 loss: 2.031160682439804\n",
      "Epoch : 2 loss: 3.1714176516979933\n",
      "Epoch : 3 loss: 0.7157164290547371\n",
      "Epoch : 4 loss: 0.5604358650743961\n",
      "Epoch : 5 loss: 0.7958797551691532\n",
      "Epoch : 6 loss: 1.4181657303124666\n",
      "Epoch : 7 loss: 1.6583141535520554\n",
      "Epoch : 8 loss: 0.44541674479842186\n",
      "Epoch : 9 loss: 0.16661260649561882\n",
      "Epoch : 10 loss: 0.25935184210538864\n",
      "Epoch : 11 loss: 0.18625089153647423\n",
      "Epoch : 12 loss: 3.391363959759474\n",
      "Epoch : 13 loss: 1.2553639523684978\n",
      "Epoch : 14 loss: 1.5438310224562883\n",
      "Epoch : 15 loss: 0.630724124610424\n",
      "Epoch : 16 loss: 0.9427573196589947\n",
      "Epoch : 17 loss: 0.7635397091507912\n",
      "Epoch : 18 loss: 0.17023862153291702\n",
      "Epoch : 19 loss: 0.01919320970773697\n",
      "Finished Training\n"
     ]
    }
   ],
   "source": [
    "num_epochs = 20\n",
    "for epoch in range(num_epochs):  # loop over the dataset multiple times\n",
    "\n",
    "    running_loss = 0.0\n",
    "    for i, data in enumerate(traindataloader):\n",
    "        inputs, labels = data\n",
    "        inputs = torch.tensor(inputs, device=device).float()\n",
    "        labels = torch.tensor(labels, device=device)\n",
    "\n",
    "        # zero the parameter gradients\n",
    "        optimizer.zero_grad()\n",
    "        # print(type(inputs), type(labels), type(outputs))\n",
    "        # forward + backward + optimize\n",
    "        outputs = net(inputs)\n",
    "        # print(type(inputs), type(labels), type(outputs))\n",
    "        loss = criterion(outputs, labels)\n",
    "        loss.backward()\n",
    "        optimizer.step()\n",
    "        # print statistics\n",
    "        running_loss += loss.item()\n",
    "    print(\"Epoch : {} loss: {}\".format(epoch, running_loss))\n",
    "print('Finished Training')"
   ]
  },
  {
   "cell_type": "code",
   "execution_count": 56,
   "metadata": {
    "colab": {
     "base_uri": "https://localhost:8080/",
     "height": 73
    },
    "colab_type": "code",
    "executionInfo": {
     "elapsed": 6717,
     "status": "ok",
     "timestamp": 1584105131880,
     "user": {
      "displayName": "seunghyun lee",
      "photoUrl": "",
      "userId": "09013461657561931111"
     },
     "user_tz": -540
    },
    "id": "52xVPEEu_aag",
    "outputId": "ebcada90-0724-468d-ab7b-2160a1ae0367"
   },
   "outputs": [
    {
     "name": "stderr",
     "output_type": "stream",
     "text": [
      "/usr/local/lib/python3.6/dist-packages/ipykernel_launcher.py:8: UserWarning: To copy construct from a tensor, it is recommended to use sourceTensor.clone().detach() or sourceTensor.clone().detach().requires_grad_(True), rather than torch.tensor(sourceTensor).\n",
      "  \n"
     ]
    }
   ],
   "source": [
    "correct = 0\n",
    "total = 0\n",
    "net.eval()\n",
    "preds = []\n",
    "with torch.no_grad():\n",
    "    for data in testdataloader:\n",
    "        inputs = data\n",
    "        inputs = torch.tensor(inputs, device=device).float()\n",
    "        outputs = net(inputs)\n",
    "        _, predicted = torch.max(outputs.data, 1)\n",
    "        for pred in predicted:\n",
    "          preds.append(pred.cpu().numpy())"
   ]
  },
  {
   "cell_type": "code",
   "execution_count": 57,
   "metadata": {
    "colab": {
     "base_uri": "https://localhost:8080/",
     "height": 197
    },
    "colab_type": "code",
    "executionInfo": {
     "elapsed": 6395,
     "status": "ok",
     "timestamp": 1584105131885,
     "user": {
      "displayName": "seunghyun lee",
      "photoUrl": "",
      "userId": "09013461657561931111"
     },
     "user_tz": -540
    },
    "id": "aN92O3leBJJN",
    "outputId": "c953fdb3-d2bf-4b5c-ca71-42441981ae49"
   },
   "outputs": [
    {
     "data": {
      "text/plain": [
       "[array(8),\n",
       " array(0),\n",
       " array(5),\n",
       " array(3),\n",
       " array(8),\n",
       " array(1),\n",
       " array(9),\n",
       " array(6),\n",
       " array(6),\n",
       " array(0)]"
      ]
     },
     "execution_count": 57,
     "metadata": {
      "tags": []
     },
     "output_type": "execute_result"
    }
   ],
   "source": [
    "preds[:10]"
   ]
  },
  {
   "cell_type": "code",
   "execution_count": 60,
   "metadata": {
    "colab": {
     "base_uri": "https://localhost:8080/",
     "height": 35
    },
    "colab_type": "code",
    "executionInfo": {
     "elapsed": 1074,
     "status": "ok",
     "timestamp": 1584105163264,
     "user": {
      "displayName": "seunghyun lee",
      "photoUrl": "",
      "userId": "09013461657561931111"
     },
     "user_tz": -540
    },
    "id": "zPC27gYdBPi8",
    "outputId": "c3429b7d-e6da-4d23-d16b-d98b78cd20a4"
   },
   "outputs": [
    {
     "name": "stdout",
     "output_type": "stream",
     "text": [
      "(18000,)\n"
     ]
    }
   ],
   "source": [
    "import numpy as np\n",
    "preds = np.array(preds)\n",
    "print(preds.shape)"
   ]
  },
  {
   "cell_type": "code",
   "execution_count": 62,
   "metadata": {
    "colab": {
     "base_uri": "https://localhost:8080/",
     "height": 202
    },
    "colab_type": "code",
    "executionInfo": {
     "elapsed": 937,
     "status": "ok",
     "timestamp": 1584105199559,
     "user": {
      "displayName": "seunghyun lee",
      "photoUrl": "",
      "userId": "09013461657561931111"
     },
     "user_tz": -540
    },
    "id": "UxTz8CJ-Biyx",
    "outputId": "c6fabcc1-cf17-4d78-fefd-ec7a6d91c06b"
   },
   "outputs": [
    {
     "data": {
      "text/html": [
       "<div>\n",
       "<style scoped>\n",
       "    .dataframe tbody tr th:only-of-type {\n",
       "        vertical-align: middle;\n",
       "    }\n",
       "\n",
       "    .dataframe tbody tr th {\n",
       "        vertical-align: top;\n",
       "    }\n",
       "\n",
       "    .dataframe thead th {\n",
       "        text-align: right;\n",
       "    }\n",
       "</style>\n",
       "<table border=\"1\" class=\"dataframe\">\n",
       "  <thead>\n",
       "    <tr style=\"text-align: right;\">\n",
       "      <th></th>\n",
       "      <th>Id</th>\n",
       "      <th>Category</th>\n",
       "    </tr>\n",
       "  </thead>\n",
       "  <tbody>\n",
       "    <tr>\n",
       "      <th>0</th>\n",
       "      <td>57808</td>\n",
       "      <td>8</td>\n",
       "    </tr>\n",
       "    <tr>\n",
       "      <th>1</th>\n",
       "      <td>4960</td>\n",
       "      <td>0</td>\n",
       "    </tr>\n",
       "    <tr>\n",
       "      <th>2</th>\n",
       "      <td>35755</td>\n",
       "      <td>5</td>\n",
       "    </tr>\n",
       "    <tr>\n",
       "      <th>3</th>\n",
       "      <td>15543</td>\n",
       "      <td>3</td>\n",
       "    </tr>\n",
       "    <tr>\n",
       "      <th>4</th>\n",
       "      <td>48968</td>\n",
       "      <td>8</td>\n",
       "    </tr>\n",
       "  </tbody>\n",
       "</table>\n",
       "</div>"
      ],
      "text/plain": [
       "      Id  Category\n",
       "0  57808         8\n",
       "1   4960         0\n",
       "2  35755         5\n",
       "3  15543         3\n",
       "4  48968         8"
      ]
     },
     "execution_count": 62,
     "metadata": {
      "tags": []
     },
     "output_type": "execute_result"
    }
   ],
   "source": [
    "sample_submission[\"Category\"] = pd.Series(preds)\n",
    "sample_submission.head()"
   ]
  },
  {
   "cell_type": "code",
   "execution_count": null,
   "metadata": {
    "colab": {},
    "colab_type": "code",
    "id": "gWxJmLE1BvHY"
   },
   "outputs": [],
   "source": [
    "sample_submission.to_csv(\"torch_submission.csv\", index=False)"
   ]
  },
  {
   "cell_type": "code",
   "execution_count": null,
   "metadata": {
    "colab": {},
    "colab_type": "code",
    "id": "c4nGgGx_B2a1"
   },
   "outputs": [],
   "source": []
  }
 ],
 "metadata": {
  "accelerator": "GPU",
  "colab": {
   "authorship_tag": "ABX9TyMW/1OCS9as07JRcsngQnTw",
   "mount_file_id": "1aDEf0Acz6e43qlV-1ohOuad4Kz4XUALZ",
   "name": "FirePytorch.ipynb",
   "provenance": []
  },
  "kernelspec": {
   "display_name": "Python 3",
   "language": "python",
   "name": "python3"
  },
  "language_info": {
   "codemirror_mode": {
    "name": "ipython",
    "version": 3
   },
   "file_extension": ".py",
   "mimetype": "text/x-python",
   "name": "python",
   "nbconvert_exporter": "python",
   "pygments_lexer": "ipython3",
   "version": "3.7.4"
  }
 },
 "nbformat": 4,
 "nbformat_minor": 4
}
