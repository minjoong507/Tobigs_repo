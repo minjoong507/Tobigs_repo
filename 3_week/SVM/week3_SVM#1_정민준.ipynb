{
 "cells": [
  {
   "cell_type": "code",
   "execution_count": 1,
   "metadata": {},
   "outputs": [],
   "source": [
    "import numpy as np\n",
    "import pandas as pd\n",
    "import matplotlib.pyplot as plt\n",
    "import seaborn as sns\n",
    "from sklearn.svm import SVC\n",
    "from sklearn.model_selection import train_test_split\n",
    "from sklearn.pipeline import Pipeline\n",
    "from sklearn.preprocessing import StandardScaler"
   ]
  },
  {
   "cell_type": "markdown",
   "metadata": {},
   "source": [
    "데이터 입출력"
   ]
  },
  {
   "cell_type": "code",
   "execution_count": 2,
   "metadata": {},
   "outputs": [],
   "source": [
    "iris = sns.load_dataset('iris') #data load\n",
    "X = iris.iloc[:, :4]\n",
    "y = iris.iloc[:, -1]\n",
    "\n",
    "scal = StandardScaler() #scaling\n",
    "X = scal.fit_transform(X)"
   ]
  },
  {
   "cell_type": "markdown",
   "metadata": {},
   "source": [
    "데이터 셋 분리"
   ]
  },
  {
   "cell_type": "code",
   "execution_count": 3,
   "metadata": {},
   "outputs": [
    {
     "data": {
      "text/plain": [
       "SVC(C=100, cache_size=200, class_weight=None, coef0=0.0,\n",
       "    decision_function_shape='ovr', degree=3, gamma=5, kernel='rbf', max_iter=-1,\n",
       "    probability=False, random_state=None, shrinking=True, tol=0.001,\n",
       "    verbose=False)"
      ]
     },
     "execution_count": 3,
     "metadata": {},
     "output_type": "execute_result"
    }
   ],
   "source": [
    "svm_1 = SVC(kernel ='rbf', gamma = 5, C = 100)\n",
    "svm_2 = SVC(kernel ='rbf', gamma = 5, C = 100)\n",
    "svm_3 = SVC(kernel ='rbf', gamma = 5, C = 100)\n",
    "\n",
    "X_train, X_test, y_train, y_test = train_test_split(X, y, test_size=0.2, random_state=48)\n",
    "y_train = pd.get_dummies(y_train) #one hot encoding\n",
    "\n",
    "svm_1.fit(X_train, y_train.iloc[:, 0]) # setosa\n",
    "svm_2.fit(X_train, y_train.iloc[:, 1]) # versicolor\n",
    "svm_3.fit(X_train, y_train.iloc[:, 2]) # virginica"
   ]
  },
  {
   "cell_type": "markdown",
   "metadata": {},
   "source": [
    "decision_function 값 확인"
   ]
  },
  {
   "cell_type": "code",
   "execution_count": 4,
   "metadata": {},
   "outputs": [
    {
     "name": "stdout",
     "output_type": "stream",
     "text": [
      "[-1.12470845 -0.86326953 -0.65281099 -0.50248821 -0.76284323 -0.87465573\n",
      "  1.07709345 -0.99281647  0.47441336 -0.99842743 -0.83989348  0.15633457\n",
      "  0.32871788 -0.97965464 -0.72385083 -0.92638376  1.28322481 -0.56240455\n",
      " -0.72719892 -0.99509775  0.43166724 -0.96451557 -0.82991366 -1.03020581\n",
      " -0.75166835  1.13461335  0.39943974 -1.04194106 -0.93376548 -1.06133798]\n",
      "[ 1.36054602  0.62859488  0.0580828  -0.36987093 -0.25686625 -0.79229874\n",
      " -1.03195247 -0.87132049 -0.77957234  0.99327762 -0.73309581 -0.64607768\n",
      " -0.71843897 -0.80882458  0.47748663  0.69953462 -1.11879121 -0.1870504\n",
      " -0.24458236 -0.99337352 -0.76149141 -0.96812018  0.11310267  1.06892719\n",
      " -0.56749692 -1.05639624 -0.74817515 -1.0537858  -0.89721836  1.17126024]\n",
      "[-1.26277651 -0.77964936 -0.40539105 -0.13070947  0.02643314  0.57365649\n",
      " -1.04443118  0.88027844 -0.69605517 -0.99074328  0.52442024 -0.51171892\n",
      " -0.61157919  0.78148257 -0.75517707 -0.76905925 -1.16380018 -0.25333938\n",
      " -0.0251979   0.98843144 -0.67129528  0.89577306 -0.30363489 -1.03647008\n",
      "  0.31622662 -1.07758405 -0.65251719  1.09632055  0.85541707 -1.11042784]\n"
     ]
    }
   ],
   "source": [
    "print(svm_1.decision_function(X_test))\n",
    "print(svm_2.decision_function(X_test))\n",
    "print(svm_3.decision_function(X_test))"
   ]
  },
  {
   "cell_type": "markdown",
   "metadata": {},
   "source": [
    "predict 값 확인"
   ]
  },
  {
   "cell_type": "code",
   "execution_count": 5,
   "metadata": {},
   "outputs": [
    {
     "name": "stdout",
     "output_type": "stream",
     "text": [
      "[0 0 0 0 0 0 1 0 1 0 0 1 1 0 0 0 1 0 0 0 1 0 0 0 0 1 1 0 0 0]\n",
      "[1 1 1 0 0 0 0 0 0 1 0 0 0 0 1 1 0 0 0 0 0 0 1 1 0 0 0 0 0 1]\n",
      "[0 0 0 0 1 1 0 1 0 0 1 0 0 1 0 0 0 0 0 1 0 1 0 0 1 0 0 1 1 0]\n"
     ]
    }
   ],
   "source": [
    "print(svm_1.predict(X_test))\n",
    "print(svm_2.predict(X_test))\n",
    "print(svm_3.predict(X_test))"
   ]
  },
  {
   "cell_type": "code",
   "execution_count": 6,
   "metadata": {},
   "outputs": [
    {
     "name": "stdout",
     "output_type": "stream",
     "text": [
      "[2, 2, 2, 3, 3, 3, 1, 3, 1, 2, 3, 1, 1, 3, 2, 2, 1, 2, 3, 3, 1, 3, 2, 2, 3, 1, 1, 3, 3, 2]\n"
     ]
    }
   ],
   "source": [
    "result = []\n",
    "for i in range(len(X_test)):\n",
    "    if (svm_1.decision_function(X_test)[i] >= svm_2.decision_function(X_test)[i]) \\\n",
    "            and (svm_1.decision_function(X_test)[i] >= svm_3.decision_function(X_test)[i]):\n",
    "        result.append(1) # setosa\n",
    "    elif (svm_2.decision_function(X_test)[i] >= svm_1.decision_function(X_test)[i]) \\\n",
    "            and (svm_2.decision_function(X_test)[i] >= svm_3.decision_function(X_test)[i]):\n",
    "        result.append(2) # versicolor\n",
    "    else:\n",
    "        result.append(3) # virginica\n",
    "print(result)"
   ]
  },
  {
   "cell_type": "markdown",
   "metadata": {},
   "source": [
    "descision_function의 크기로 분류하였습니다. 그런데 시각화나 제가 한게 틀린거 같아서 코멘트 주시면 바로 다시 해보겠습니다."
   ]
  }
 ],
 "metadata": {
  "kernelspec": {
   "display_name": "Python 3",
   "language": "python",
   "name": "python3"
  },
  "language_info": {
   "codemirror_mode": {
    "name": "ipython",
    "version": 3
   },
   "file_extension": ".py",
   "mimetype": "text/x-python",
   "name": "python",
   "nbconvert_exporter": "python",
   "pygments_lexer": "ipython3",
   "version": "3.7.4"
  }
 },
 "nbformat": 4,
 "nbformat_minor": 2
}
