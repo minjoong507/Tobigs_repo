{
 "cells": [
  {
   "cell_type": "markdown",
   "metadata": {},
   "source": [
    "선언부"
   ]
  },
  {
   "cell_type": "code",
   "execution_count": 1,
   "metadata": {},
   "outputs": [],
   "source": [
    "import pandas as pd\n",
    "import warnings\n",
    "from sklearn import datasets\n",
    "from sklearn.model_selection import train_test_split\n",
    "from sklearn.model_selection import GridSearchCV\n",
    "from sklearn.neighbors import KNeighborsClassifier\n",
    "import matplotlib.pyplot as plt"
   ]
  },
  {
   "cell_type": "markdown",
   "metadata": {},
   "source": [
    "데이터 불러오기"
   ]
  },
  {
   "cell_type": "code",
   "execution_count": 2,
   "metadata": {},
   "outputs": [
    {
     "name": "stdout",
     "output_type": "stream",
     "text": [
      "<class 'sklearn.utils.Bunch'>\n"
     ]
    }
   ],
   "source": [
    "iris = datasets.load_iris()\n",
    "\n",
    "print(type(iris))\n",
    "\n",
    "labels = pd.DataFrame(iris.target)\n",
    "labels.columns = ['labels']\n",
    "data = pd.DataFrame(iris.data)\n",
    "data.columns = ['Sepal length', 'Sepal width', 'Petal length', 'Petal width']\n",
    "data = pd.concat([data, labels], axis=1)"
   ]
  },
  {
   "cell_type": "markdown",
   "metadata": {},
   "source": [
    "데이터의 분리"
   ]
  },
  {
   "cell_type": "code",
   "execution_count": 3,
   "metadata": {},
   "outputs": [],
   "source": [
    "X = data.iloc[:, :-1]\n",
    "y = data.iloc[:, -1]\n",
    "\n",
    "X_train, X_test, y_train, y_test = train_test_split(X, y, random_state=42)"
   ]
  },
  {
   "cell_type": "markdown",
   "metadata": {},
   "source": [
    "파라미터 지정하기\n",
    "n_neighbors, weights, metric 키와 밸류 설정한 딕셔너리 선언"
   ]
  },
  {
   "cell_type": "code",
   "execution_count": 4,
   "metadata": {},
   "outputs": [],
   "source": [
    "grid_params = {\n",
    "    'n_neighbors': [3, 5, 11, 19],\n",
    "    'weights': ['uniform', 'distance'],\n",
    "    'metric': ['euclidean', 'manhattan']\n",
    "}"
   ]
  },
  {
   "cell_type": "code",
   "execution_count": 5,
   "metadata": {},
   "outputs": [],
   "source": [
    "gs = GridSearchCV(\n",
    "    KNeighborsClassifier(), #estimator\n",
    "    grid_params, # 찾고자하는 파라미터, 위에서 딕셔너리 선언\n",
    "    verbose = 1, # verbose : integer    Controls the verbosity: the higher, the more messages. 뭔말이지?\n",
    "    cv = 3, # k fold c-v 에서 k값?\n",
    "    n_jobs = -1 # 병렬 처리갯수 (-1은 전부)\n",
    "    )"
   ]
  },
  {
   "cell_type": "code",
   "execution_count": 6,
   "metadata": {},
   "outputs": [
    {
     "name": "stdout",
     "output_type": "stream",
     "text": [
      "Fitting 3 folds for each of 16 candidates, totalling 48 fits\n"
     ]
    },
    {
     "name": "stderr",
     "output_type": "stream",
     "text": [
      "[Parallel(n_jobs=-1)]: Using backend LokyBackend with 6 concurrent workers.\n",
      "[Parallel(n_jobs=-1)]: Done  37 out of  48 | elapsed:    0.9s remaining:    0.3s\n",
      "[Parallel(n_jobs=-1)]: Done  48 out of  48 | elapsed:    1.0s finished\n",
      "/home/minjoon/anaconda3/lib/python3.7/site-packages/sklearn/model_selection/_search.py:814: DeprecationWarning: The default of the `iid` parameter will change from True to False in version 0.22 and will be removed in 0.24. This will change numeric results when test-set sizes are unequal.\n",
      "  DeprecationWarning)\n"
     ]
    }
   ],
   "source": [
    "gs_results = gs.fit(X_train, y_train)"
   ]
  },
  {
   "cell_type": "code",
   "execution_count": 7,
   "metadata": {},
   "outputs": [
    {
     "name": "stdout",
     "output_type": "stream",
     "text": [
      "Best Parameter: {'metric': 'euclidean', 'n_neighbors': 3, 'weights': 'distance'}\n"
     ]
    }
   ],
   "source": [
    "print(\"Best Parameter: {}\".format(gs.best_params_)) #가장 잘나오는 파라미터들을 출력"
   ]
  },
  {
   "cell_type": "code",
   "execution_count": 8,
   "metadata": {},
   "outputs": [
    {
     "name": "stdout",
     "output_type": "stream",
     "text": [
      "Best Cross-validity Score: 0.955\n"
     ]
    }
   ],
   "source": [
    "print(\"Best Cross-validity Score: {:.3f}\".format(gs.best_score_)) #최종 스코어"
   ]
  },
  {
   "cell_type": "code",
   "execution_count": 9,
   "metadata": {},
   "outputs": [
    {
     "name": "stdout",
     "output_type": "stream",
     "text": [
      "Test set Score: 1.000\n"
     ]
    }
   ],
   "source": [
    "print(\"Test set Score: {:.3f}\".format(gs.score(X_test, y_test)))"
   ]
  },
  {
   "cell_type": "markdown",
   "metadata": {},
   "source": [
    "여기서부턴 최적의 n_neighbors 찾기\n",
    "위와같이 파라미터설정, gridsearchCV 선언 후 fit 실행"
   ]
  },
  {
   "cell_type": "code",
   "execution_count": 10,
   "metadata": {},
   "outputs": [
    {
     "name": "stderr",
     "output_type": "stream",
     "text": [
      "/home/minjoon/anaconda3/lib/python3.7/site-packages/sklearn/model_selection/_search.py:814: DeprecationWarning: The default of the `iid` parameter will change from True to False in version 0.22 and will be removed in 0.24. This will change numeric results when test-set sizes are unequal.\n",
      "  DeprecationWarning)\n"
     ]
    },
    {
     "data": {
      "text/plain": [
       "GridSearchCV(cv=5, error_score='raise-deprecating',\n",
       "             estimator=KNeighborsClassifier(algorithm='auto', leaf_size=30,\n",
       "                                            metric='minkowski',\n",
       "                                            metric_params=None, n_jobs=None,\n",
       "                                            n_neighbors=5, p=2,\n",
       "                                            weights='uniform'),\n",
       "             iid='warn', n_jobs=None,\n",
       "             param_grid={'n_neighbors': [1, 2, 3, 4, 5, 6, 7, 8, 9, 10]},\n",
       "             pre_dispatch='2*n_jobs', refit=True, return_train_score=True,\n",
       "             scoring=None, verbose=0)"
      ]
     },
     "execution_count": 10,
     "metadata": {},
     "output_type": "execute_result"
    }
   ],
   "source": [
    "grid_params_for_n = {\n",
    "    'n_neighbors': [1, 2, 3, 4, 5, 6, 7, 8, 9, 10]\n",
    "}\n",
    "gs_n = GridSearchCV(\n",
    "    KNeighborsClassifier(),\n",
    "    grid_params_for_n,\n",
    "    cv = 5,\n",
    "    return_train_score=True # 이게 디폴트가 false 던데 If ``False``, the ``cv_results_`` attribute will not include training scores. True로 한다는거는 cv 결과 속성이 트레이닝 스코어를 포함하게한다?\n",
    ")\n",
    "gs_n.fit(X_train, y_train)"
   ]
  },
  {
   "cell_type": "code",
   "execution_count": 11,
   "metadata": {},
   "outputs": [
    {
     "name": "stdout",
     "output_type": "stream",
     "text": [
      "Best Parameter: {'n_neighbors': 4}\n"
     ]
    }
   ],
   "source": [
    "print(\"Best Parameter: {}\".format(gs_n.best_params_))"
   ]
  },
  {
   "cell_type": "code",
   "execution_count": 12,
   "metadata": {},
   "outputs": [
    {
     "name": "stdout",
     "output_type": "stream",
     "text": [
      "Best Cross-validity Score: 0.955\n"
     ]
    }
   ],
   "source": [
    "print(\"Best Cross-validity Score: {:.3f}\".format(gs_n.best_score_))"
   ]
  },
  {
   "cell_type": "code",
   "execution_count": 13,
   "metadata": {},
   "outputs": [
    {
     "name": "stdout",
     "output_type": "stream",
     "text": [
      "Test set Score: 1.000\n"
     ]
    }
   ],
   "source": [
    "print(\"Test set Score: {:.3f}\".format(gs_n.score(X_test, y_test)))"
   ]
  },
  {
   "cell_type": "code",
   "execution_count": 14,
   "metadata": {},
   "outputs": [
    {
     "name": "stdout",
     "output_type": "stream",
     "text": [
      "   mean_fit_time  std_fit_time  mean_score_time  std_score_time  \\\n",
      "0       0.001330      0.000142         0.001575        0.000200   \n",
      "1       0.001234      0.000067         0.001529        0.000065   \n",
      "2       0.001215      0.000042         0.001478        0.000051   \n",
      "3       0.001181      0.000014         0.001466        0.000015   \n",
      "4       0.001181      0.000016         0.001479        0.000038   \n",
      "5       0.001210      0.000038         0.001497        0.000050   \n",
      "6       0.001153      0.000035         0.001478        0.000061   \n",
      "7       0.001171      0.000026         0.001504        0.000027   \n",
      "8       0.001165      0.000043         0.001456        0.000040   \n",
      "9       0.001186      0.000029         0.001482        0.000032   \n",
      "\n",
      "  param_n_neighbors               params  split0_test_score  \\\n",
      "0                 1   {'n_neighbors': 1}           0.956522   \n",
      "1                 2   {'n_neighbors': 2}           0.913043   \n",
      "2                 3   {'n_neighbors': 3}           0.913043   \n",
      "3                 4   {'n_neighbors': 4}           0.913043   \n",
      "4                 5   {'n_neighbors': 5}           0.956522   \n",
      "5                 6   {'n_neighbors': 6}           0.913043   \n",
      "6                 7   {'n_neighbors': 7}           0.956522   \n",
      "7                 8   {'n_neighbors': 8}           0.913043   \n",
      "8                 9   {'n_neighbors': 9}           0.913043   \n",
      "9                10  {'n_neighbors': 10}           0.913043   \n",
      "\n",
      "   split1_test_score  split2_test_score  split3_test_score  ...  \\\n",
      "0           0.956522           0.869565                1.0  ...   \n",
      "1           0.913043           0.869565                1.0  ...   \n",
      "2           1.000000           0.869565                1.0  ...   \n",
      "3           1.000000           0.913043                1.0  ...   \n",
      "4           1.000000           0.826087                1.0  ...   \n",
      "5           0.956522           0.913043                1.0  ...   \n",
      "6           0.956522           0.826087                1.0  ...   \n",
      "7           0.956522           0.826087                1.0  ...   \n",
      "8           1.000000           0.826087                1.0  ...   \n",
      "9           0.956522           0.826087                1.0  ...   \n",
      "\n",
      "   mean_test_score  std_test_score  rank_test_score  split0_train_score  \\\n",
      "0         0.946429        0.042725                2            1.000000   \n",
      "1         0.928571        0.043846                8            0.966292   \n",
      "2         0.946429        0.051008                2            0.955056   \n",
      "3         0.955357        0.039214                1            0.955056   \n",
      "4         0.946429        0.064457                2            0.955056   \n",
      "5         0.946429        0.032389                2            0.943820   \n",
      "6         0.937500        0.059216                6            0.943820   \n",
      "7         0.928571        0.058952                8            0.943820   \n",
      "8         0.937500        0.065444                6            0.955056   \n",
      "9         0.928571        0.058952                8            0.966292   \n",
      "\n",
      "   split1_train_score  split2_train_score  split3_train_score  \\\n",
      "0            1.000000            1.000000            1.000000   \n",
      "1            0.966292            0.988764            0.955556   \n",
      "2            0.943820            0.988764            0.933333   \n",
      "3            0.943820            0.988764            0.955556   \n",
      "4            0.966292            0.988764            0.955556   \n",
      "5            0.932584            0.988764            0.955556   \n",
      "6            0.955056            0.988764            0.955556   \n",
      "7            0.943820            0.988764            0.966667   \n",
      "8            0.943820            0.988764            0.955556   \n",
      "9            0.932584            0.988764            0.922222   \n",
      "\n",
      "   split4_train_score  mean_train_score  std_train_score  \n",
      "0            1.000000          1.000000         0.000000  \n",
      "1            0.956044          0.966590         0.012040  \n",
      "2            0.956044          0.955404         0.018626  \n",
      "3            0.967033          0.962046         0.015244  \n",
      "4            0.967033          0.966540         0.012221  \n",
      "5            0.956044          0.955354         0.018806  \n",
      "6            0.956044          0.959848         0.015158  \n",
      "7            0.956044          0.959823         0.016798  \n",
      "8            0.945055          0.957650         0.016304  \n",
      "9            0.956044          0.953181         0.023786  \n",
      "\n",
      "[10 rows x 21 columns]\n"
     ]
    }
   ],
   "source": [
    "result_grid = pd.DataFrame(gs_n.cv_results_)\n",
    "print(result_grid) #결과 뽑아보기"
   ]
  },
  {
   "cell_type": "code",
   "execution_count": 15,
   "metadata": {},
   "outputs": [
    {
     "data": {
      "image/png": "[encoded data removed]",
      "text/plain": [
       "<Figure size 432x288 with 1 Axes>"
      ]
     },
     "metadata": {
      "needs_background": "light"
     },
     "output_type": "display_data"
    }
   ],
   "source": [
    "plt.plot(result_grid['param_n_neighbors'], result_grid['mean_train_score'], label=\"Train\")\n",
    "plt.plot(result_grid['param_n_neighbors'], result_grid['mean_test_score'], label=\"Test\")\n",
    "plt.show() #n에 따른 점수결과 확인해보기"
   ]
  }
 ],
 "metadata": {
  "kernelspec": {
   "display_name": "Python 3",
   "language": "python",
   "name": "python3"
  },
  "language_info": {
   "codemirror_mode": {
    "name": "ipython",
    "version": 3
   },
   "file_extension": ".py",
   "mimetype": "text/x-python",
   "name": "python",
   "nbconvert_exporter": "python",
   "pygments_lexer": "ipython3",
   "version": "3.7.4"
  }
 },
 "nbformat": 4,
 "nbformat_minor": 4
}
