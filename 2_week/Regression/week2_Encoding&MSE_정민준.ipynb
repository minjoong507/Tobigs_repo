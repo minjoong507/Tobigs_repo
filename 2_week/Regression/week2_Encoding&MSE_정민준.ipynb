{
 "cells": [
  {
   "cell_type": "code",
   "execution_count": 1,
   "metadata": {},
   "outputs": [],
   "source": [
    "import pandas as pd\n",
    "import numpy as np\n",
    "from numpy.linalg import inv\n",
    "from sklearn.model_selection import train_test_split\n",
    "from sklearn.linear_model import LinearRegression\n",
    "import sklearn as sk\n",
    "import matplotlib.pyplot as plt\n",
    "from sklearn.preprocessing import StandardScaler"
   ]
  },
  {
   "cell_type": "markdown",
   "metadata": {},
   "source": [
    "함수 선언부"
   ]
  },
  {
   "cell_type": "code",
   "execution_count": 2,
   "metadata": {},
   "outputs": [],
   "source": [
    "def estimate_beta(x, y):\n",
    "    new_x = inv(np.dot(x.T, x))\n",
    "    new_y = np.dot(x.T, y)\n",
    "    beta_hat = np.dot(new_x, new_y)\n",
    "    return beta_hat\n",
    "\n",
    "def make_intercept(x):\n",
    "    temp = np.ones((len(x), 1))\n",
    "    x = np.hstack([temp, x])\n",
    "    return x\n",
    "\n",
    "def make_MSE(m1, m2, Y):\n",
    "    beta_matrix = np.dot(m1, m2)\n",
    "    e_matrix = np.subtract(Y, beta_matrix)\n",
    "    SSE = np.dot(e_matrix.T, e_matrix)\n",
    "    MSE = SSE / (len(Y) - len(m1.T) - 2)\n",
    "    return MSE"
   ]
  },
  {
   "cell_type": "markdown",
   "metadata": {},
   "source": [
    "데이터 입출력"
   ]
  },
  {
   "cell_type": "code",
   "execution_count": 3,
   "metadata": {},
   "outputs": [],
   "source": [
    "data = pd.read_csv(\"Auction_master_train.csv\", sep=\",\")\n",
    "data = data.dropna(axis=1)"
   ]
  },
  {
   "cell_type": "markdown",
   "metadata": {},
   "source": [
    "필요 데이터 추출 및 선언"
   ]
  },
  {
   "cell_type": "code",
   "execution_count": 4,
   "metadata": {},
   "outputs": [],
   "source": [
    "x_value = np.array(list(data['point.x'].values))\n",
    "y_value = np.array(list(data['point.y'].values))\n",
    "Hammer_Price = np.array(list(data['Hammer_price'].values))\n",
    "total_addr_do = np.array(list(data['addr_do'].values))\n",
    "total_addr_si = np.array(list(data['addr_si'].values))\n",
    "total_compnay_list = np.array(list(data['Appraisal_company'].values))\n",
    "Minimum_sales_price = np.array(list(data['Minimum_sales_price'].values))\n",
    "Claim_price = np.array(list(data['Claim_price'].values))\n",
    "Total_appraisal_price = np.array(list(data['Total_appraisal_price'].values))"
   ]
  },
  {
   "cell_type": "code",
   "execution_count": 5,
   "metadata": {},
   "outputs": [],
   "source": [
    "company_list = []\n",
    "for i in data['Appraisal_company'].values:\n",
    "    if i not in company_list:\n",
    "        company_list.append(i)\n",
    "\n",
    "addr_do_list = []\n",
    "for i in data['addr_do'].values:\n",
    "    if i not in addr_do_list:\n",
    "        addr_do_list.append(i)\n",
    "\n",
    "addr_si_list = []\n",
    "for i in data['addr_si'].values:\n",
    "    if i not in addr_si_list:\n",
    "        addr_si_list.append(i)"
   ]
  },
  {
   "cell_type": "markdown",
   "metadata": {},
   "source": [
    "선형회귀분석 부분"
   ]
  },
  {
   "cell_type": "markdown",
   "metadata": {},
   "source": [
    "1. 변수간 분리"
   ]
  },
  {
   "cell_type": "code",
   "execution_count": 6,
   "metadata": {},
   "outputs": [],
   "source": [
    "category_feature = [col for col in data.columns if data[col].dtypes == \"object\"]\n",
    "continuous_feature = data.drop(category_feature, axis=1)\n",
    "continuous_feature = continuous_feature.drop(\"Hammer_price\", axis=1)"
   ]
  },
  {
   "cell_type": "code",
   "execution_count": 7,
   "metadata": {},
   "outputs": [],
   "source": [
    "new_data = pd.DataFrame()\n",
    "for col in category_feature:\n",
    "    temp = []\n",
    "    temp_value = []\n",
    "    for index in data[col]:\n",
    "        if index not in temp:\n",
    "            temp.append(index)\n",
    "            temp_value.append(len(temp))\n",
    "\n",
    "        else:\n",
    "            for num, i in enumerate(temp):\n",
    "                if index == i:\n",
    "                    temp_value.append(num)\n",
    "    new_data[col] = temp_value"
   ]
  },
  {
   "cell_type": "markdown",
   "metadata": {},
   "source": [
    "2. X, y의 분리"
   ]
  },
  {
   "cell_type": "code",
   "execution_count": 8,
   "metadata": {},
   "outputs": [],
   "source": [
    "X = pd.concat([new_data, continuous_feature], axis=1) #위의 전처리 과정을 거친 데이터 프레임을 적용\n",
    "y = data['Hammer_price']\n",
    "X_train, X_test, y_train, y_test = train_test_split(X, y, test_size=0.2, random_state=0)\n",
    "\n",
    "ss = StandardScaler()\n",
    "X_train_s = ss.fit_transform(X_train)\n",
    "X_test_s = ss.transform(X_test)"
   ]
  },
  {
   "cell_type": "code",
   "execution_count": 9,
   "metadata": {},
   "outputs": [
    {
     "name": "stdout",
     "output_type": "stream",
     "text": [
      "-5.442031265913901e+17\n"
     ]
    }
   ],
   "source": [
    "model = LinearRegression()\n",
    "model.fit(X_train_s, y_train)\n",
    "print(model.score(X_train, y_train))"
   ]
  },
  {
   "cell_type": "code",
   "execution_count": 10,
   "metadata": {},
   "outputs": [
    {
     "name": "stdout",
     "output_type": "stream",
     "text": [
      "[ 1.02236676e+06  5.60183463e+06  3.20775713e+06 -1.35416504e+06\n",
      "  4.15081939e+06 -6.11679362e+05 -1.87866211e+06  9.16512737e+05\n",
      "  6.06504946e+07 -6.90078277e+06  9.21089971e+06 -9.14161099e+05\n",
      " -8.88463682e+04  6.61482336e+06  1.57514830e+06 -6.01257421e+06\n",
      " -7.11869630e+06  2.30637877e+06 -5.87654847e+05 -9.81320713e+06\n",
      "  4.79261346e+06 -2.08970060e+07  3.37669732e+07  2.46078274e+06\n",
      "  3.55479278e+07 -5.13382491e+07 -2.74024840e+07  4.50486470e+06\n",
      "  5.42491727e+07  5.63370574e+08  3.66528372e+05 -2.64055229e+06\n",
      " -1.08879992e+07  5.35825853e+07]\n",
      "479353347.9463139\n"
     ]
    }
   ],
   "source": [
    "sk.metrics.mean_squared_error(y_train, model.predict(X_train))\n",
    "print(model.coef_)\n",
    "print(model.intercept_)"
   ]
  },
  {
   "cell_type": "code",
   "execution_count": 11,
   "metadata": {},
   "outputs": [
    {
     "data": {
      "image/png": "[encoded data removed]",
      "text/plain": [
       "<Figure size 432x288 with 1 Axes>"
      ]
     },
     "metadata": {
      "needs_background": "light"
     },
     "output_type": "display_data"
    }
   ],
   "source": [
    "y_pred = model.predict(X_test)\n",
    "plt.plot(y_test, y_pred, '.')\n",
    "x = np.linspace(0, 330, 100)\n",
    "y = x\n",
    "plt.plot(x,y)\n",
    "plt.show()"
   ]
  },
  {
   "cell_type": "markdown",
   "metadata": {},
   "source": [
    "1. X = 경도, 위도, 시/도 Y = 낙찰가"
   ]
  },
  {
   "cell_type": "code",
   "execution_count": 12,
   "metadata": {},
   "outputs": [
    {
     "name": "stdout",
     "output_type": "stream",
     "text": [
      "2.5580095700967638e+17\n"
     ]
    }
   ],
   "source": [
    "data_do = []\n",
    "\n",
    "# 인덱싱 과정\n",
    "for i, addr in enumerate(total_addr_do):\n",
    "    # 부산이면 0\n",
    "    if addr in addr_do_list[0]:\n",
    "        data_do.append(0)\n",
    "    # 서울이면 1\n",
    "    else:\n",
    "        data_do.append(1)\n",
    "\n",
    "tmp = np.column_stack([x_value, y_value])\n",
    "X_1 = np.column_stack([tmp, np.array(data_do)])\n",
    "Y_1 = np.transpose(Hammer_Price)\n",
    "result_1 = estimate_beta(make_intercept(X_1), Y_1)\n",
    "\n",
    "print(make_MSE(make_intercept(X_1), result_1, Y_1))"
   ]
  },
  {
   "cell_type": "markdown",
   "metadata": {},
   "source": [
    "2. X = 청구금액, 최저매각가격, 시/군/구 Y = 낙찰가"
   ]
  },
  {
   "cell_type": "code",
   "execution_count": 13,
   "metadata": {},
   "outputs": [
    {
     "name": "stdout",
     "output_type": "stream",
     "text": [
      "3326205406602390.0\n"
     ]
    }
   ],
   "source": [
    "data_si = {}\n",
    "data_si_indexing = []\n",
    "\n",
    "# 인덱싱 과정\n",
    "for i, si in enumerate(addr_si_list):\n",
    "    data_si[si] = i\n",
    "\n",
    "for si in total_addr_si:\n",
    "    data_si_indexing.append(data_si[si])\n",
    "\n",
    "tmp = np.column_stack([Claim_price, Minimum_sales_price])\n",
    "X_2 = np.column_stack([tmp, np.array(data_si_indexing)])\n",
    "Y_2 = np.transpose(Hammer_Price)\n",
    "result_2 = estimate_beta(make_intercept(X_2), Y_2)\n",
    "\n",
    "print(make_MSE(make_intercept(X_2), result_2, Y_2))"
   ]
  },
  {
   "cell_type": "markdown",
   "metadata": {},
   "source": [
    "3. X = 총 감정가, 감정사 Y = 낙찰가"
   ]
  },
  {
   "cell_type": "code",
   "execution_count": 14,
   "metadata": {},
   "outputs": [
    {
     "name": "stdout",
     "output_type": "stream",
     "text": [
      "2.64400565393222e+16\n"
     ]
    }
   ],
   "source": [
    "\n",
    "data_company = {}\n",
    "data_company_indexing = []\n",
    "\n",
    "# 인덱싱 과정\n",
    "for i, cp in enumerate(company_list):\n",
    "    data_company[cp] = i\n",
    "\n",
    "for cp in total_compnay_list:\n",
    "    data_company_indexing.append(data_company[cp])\n",
    "\n",
    "X_3 = np.column_stack([Total_appraisal_price, data_company_indexing])\n",
    "Y_3 = np.transpose(Hammer_Price)\n",
    "result_3 = estimate_beta(make_intercept(X_3), Y_3)\n",
    "\n",
    "\n",
    "print(make_MSE(make_intercept(X_3), result_3, Y_3))"
   ]
  }
 ],
 "metadata": {
  "kernelspec": {
   "display_name": "Python 3",
   "language": "python",
   "name": "python3"
  },
  "language_info": {
   "codemirror_mode": {
    "name": "ipython",
    "version": 3
   },
   "file_extension": ".py",
   "mimetype": "text/x-python",
   "name": "python",
   "nbconvert_exporter": "python",
   "pygments_lexer": "ipython3",
   "version": "3.7.4"
  }
 },
 "nbformat": 4,
 "nbformat_minor": 2
}
