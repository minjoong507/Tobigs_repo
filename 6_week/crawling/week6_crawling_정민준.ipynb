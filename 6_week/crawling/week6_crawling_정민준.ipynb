{
 "cells": [
  {
   "cell_type": "markdown",
   "metadata": {},
   "source": [
    "# 과제: 네이버 영화 정보 및 평점 크롤링"
   ]
  },
  {
   "cell_type": "markdown",
   "metadata": {},
   "source": [
    "- 대상: 예매순 상위 5개의 현재 상영 중인 영화\n",
    "- 수집할 항목: 영화 제목, 주연배우 3인, 네티즌 평점, 관람객 평점, 기자/평론가 평점, 관람객 별점 리뷰 20건 공감순으로(평점, 작성자닉네임, 리뷰본문)"
   ]
  },
  {
   "cell_type": "code",
   "execution_count": 21,
   "metadata": {},
   "outputs": [],
   "source": [
    "import urllib.request\n",
    "from bs4 import BeautifulSoup\n",
    "import re"
   ]
  },
  {
   "cell_type": "code",
   "execution_count": null,
   "metadata": {},
   "outputs": [],
   "source": []
  },
  {
   "cell_type": "markdown",
   "metadata": {},
   "source": [
    "### 1. 예매순 상위 5개의 현재 상영 중인 영화 가져오기"
   ]
  },
  {
   "cell_type": "markdown",
   "metadata": {},
   "source": [
    "영화 제목, 주연배우 3인"
   ]
  },
  {
   "cell_type": "code",
   "execution_count": 210,
   "metadata": {},
   "outputs": [],
   "source": [
    "def movie_title_url_actor():\n",
    "    url = 'https://movie.naver.com/movie/running/current.nhn'\n",
    "    res =  urllib.request.Request(url)\n",
    "    html = urllib.request.urlopen(url).read()\n",
    "    soup = BeautifulSoup(html, 'html.parser')\n",
    "    rank = soup.find_all(\"dl\", class_=\"lst_dsc\")\n",
    "    for context in rank:\n",
    "        title = context.find(\"a\").get_text()\n",
    "        print(title)\n",
    "        break\n",
    "    \n",
    "    rank2 = soup.find_all(\"dl\", class_=\"info_txt1\")\n",
    "    for context2 in rank2:\n",
    "        detail = context2.find_all(\"span\", class_=\"link_txt\")\n",
    "        name_group = detail[2].find_all(\"a\")\n",
    "        for name in name_group[:3]:\n",
    "            print(name.get_text())\n",
    "        break"
   ]
  },
  {
   "cell_type": "code",
   "execution_count": 211,
   "metadata": {},
   "outputs": [
    {
     "name": "stdout",
     "output_type": "stream",
     "text": [
      "지푸라기라도 잡고 싶은 짐승들\n",
      "전도연\n",
      "정우성\n",
      "배성우\n"
     ]
    }
   ],
   "source": [
    "movie_title_url_actor()"
   ]
  },
  {
   "cell_type": "markdown",
   "metadata": {},
   "source": [
    "### 2. 해당 영화의 평점 가져오기"
   ]
  },
  {
   "cell_type": "markdown",
   "metadata": {},
   "source": [
    "네티즌 평점, 관람객 평점, 기자/평론가 평점"
   ]
  },
  {
   "cell_type": "code",
   "execution_count": 1,
   "metadata": {},
   "outputs": [],
   "source": [
    "from bs4 import BeautifulSoup\n",
    "import selenium.webdriver as webdriver\n",
    "from urllib.request import Request, urlopen\n",
    "from time import sleep\n",
    "import pandas as pd"
   ]
  },
  {
   "cell_type": "code",
   "execution_count": 2,
   "metadata": {},
   "outputs": [],
   "source": [
    "search = '지푸라기라도 잡고 싶은 짐승들'"
   ]
  },
  {
   "cell_type": "code",
   "execution_count": 3,
   "metadata": {},
   "outputs": [],
   "source": [
    "url = 'https://movie.naver.com/movie/running/current.nhn'"
   ]
  },
  {
   "cell_type": "code",
   "execution_count": 4,
   "metadata": {},
   "outputs": [],
   "source": [
    "driver = webdriver.Chrome('./chromedriver.exe') "
   ]
  },
  {
   "cell_type": "code",
   "execution_count": 5,
   "metadata": {},
   "outputs": [],
   "source": [
    "driver.get(url)\n",
    "sleep(5) #로딩 시간"
   ]
  },
  {
   "cell_type": "code",
   "execution_count": 6,
   "metadata": {},
   "outputs": [],
   "source": [
    "SCROLL_PAUSE_TIME = 1.5 #로딩 시간"
   ]
  },
  {
   "cell_type": "code",
   "execution_count": 7,
   "metadata": {},
   "outputs": [],
   "source": [
    "driver.find_element_by_id('ipt_tx_srch').send_keys(search)\n",
    "driver.find_element_by_class_name('btn_srch').click()"
   ]
  },
  {
   "cell_type": "code",
   "execution_count": 8,
   "metadata": {},
   "outputs": [],
   "source": [
    "driver.find_element_by_partial_link_text(search).click()\n",
    "html = driver.page_source"
   ]
  },
  {
   "cell_type": "code",
   "execution_count": 16,
   "metadata": {},
   "outputs": [],
   "source": [
    "soup = BeautifulSoup(html, 'html.parser')\n",
    "soup\n",
    "rank = soup.find_all(\"div\", class_=\"star_score\")"
   ]
  },
  {
   "cell_type": "code",
   "execution_count": 37,
   "metadata": {},
   "outputs": [
    {
     "name": "stdout",
     "output_type": "stream",
     "text": [
      "8.75\n",
      "6.71\n",
      "7.22\n"
     ]
    }
   ],
   "source": [
    "for context in rank[:3]:\n",
    "    score = context.find_all('em')\n",
    "    for i in score:\n",
    "        print(i.get_text(), end='')\n",
    "    print(\"\")"
   ]
  },
  {
   "cell_type": "markdown",
   "metadata": {},
   "source": [
    "### 3. 관람객 평점 공감순 20건 가져오기"
   ]
  },
  {
   "cell_type": "markdown",
   "metadata": {},
   "source": [
    "평점, 평점 작성자 닉네임, 리뷰 본문"
   ]
  },
  {
   "cell_type": "code",
   "execution_count": 77,
   "metadata": {},
   "outputs": [],
   "source": [
    "from bs4 import BeautifulSoup\n",
    "import selenium.webdriver as webdriver\n",
    "from urllib.request import Request, urlopen\n",
    "from time import sleep\n",
    "import pandas as pd"
   ]
  },
  {
   "cell_type": "code",
   "execution_count": 53,
   "metadata": {},
   "outputs": [],
   "source": [
    "search = '지푸라기라도 잡고 싶은 짐승들'"
   ]
  },
  {
   "cell_type": "code",
   "execution_count": 54,
   "metadata": {},
   "outputs": [],
   "source": [
    "url = 'https://movie.naver.com/movie/running/current.nhn'"
   ]
  },
  {
   "cell_type": "code",
   "execution_count": 55,
   "metadata": {},
   "outputs": [],
   "source": [
    "driver = webdriver.Chrome('./chromedriver.exe') "
   ]
  },
  {
   "cell_type": "code",
   "execution_count": 56,
   "metadata": {},
   "outputs": [],
   "source": [
    "driver.get(url)\n",
    "sleep(5) #로딩 시간"
   ]
  },
  {
   "cell_type": "code",
   "execution_count": 57,
   "metadata": {},
   "outputs": [],
   "source": [
    "SCROLL_PAUSE_TIME = 1.5 #로딩 시간"
   ]
  },
  {
   "cell_type": "code",
   "execution_count": 65,
   "metadata": {},
   "outputs": [],
   "source": [
    "driver.find_element_by_id('ipt_tx_srch').send_keys(search)\n",
    "driver.find_element_by_class_name('btn_srch').click()\n",
    "driver.find_element_by_partial_link_text(search).click()"
   ]
  },
  {
   "cell_type": "code",
   "execution_count": 68,
   "metadata": {},
   "outputs": [],
   "source": [
    "driver.find_element_by_xpath('//*[@id=\"movieEndTabMenu\"]/li[5]/a').click()"
   ]
  },
  {
   "cell_type": "code",
   "execution_count": 74,
   "metadata": {},
   "outputs": [],
   "source": [
    "url = 'https://movie.naver.com/movie/bi/mi/pointWriteFormList.nhn?code=179181&type=after&isActualPointWriteExecute=false&isMileageSubscriptionAlready=false&isMileageSubscriptionReject=false'"
   ]
  },
  {
   "cell_type": "code",
   "execution_count": 80,
   "metadata": {},
   "outputs": [],
   "source": [
    "html = urlopen(url).read()"
   ]
  },
  {
   "cell_type": "code",
   "execution_count": 95,
   "metadata": {},
   "outputs": [],
   "source": [
    "soup = BeautifulSoup(html, 'html.parser')\n",
    "reple = soup.find('div', class_='score_result')"
   ]
  },
  {
   "cell_type": "code",
   "execution_count": 127,
   "metadata": {},
   "outputs": [
    {
     "name": "stdout",
     "output_type": "stream",
     "text": [
      "평점10\n",
      "리뷰: 난 전도연의 화류계 캐릭터가 좋다. 무뢰한, 너는 내 운명, 카운트다운...그리고 지푸라기\n",
      "이름: bohemian(mabu****)\n",
      " \n",
      "평점10\n",
      "리뷰: 전도연 연기 진짜 오진다...와 이 영화에서 완전 섹시하게 나온다 역시 명불허전임...\n",
      "이름: 최정규(cjg4****)\n",
      " \n",
      "평점10\n",
      "리뷰: 8명의 배우가 모두 주인공 같은 느낌.\n",
      "이름: 달다(fxko****)\n",
      " \n",
      "평점9\n",
      "리뷰: 개존잼 역시 전도연이죠? 카리스마 미쳐벌여ㅠㅁㅠ\n",
      "이름: 써니(tlag****)\n",
      " \n",
      "평점10\n",
      "리뷰: 연출, 연기, 스토리 모두 대박...무조건 보세요.\n",
      "이름: 까칠소녀(oper****)\n",
      " \n",
      "평점9\n",
      "리뷰: 관람객\n",
      "이름: haeunnnnn(0_80****)\n",
      " \n",
      "평점1\n",
      "리뷰: 아니 개봉당일날 9시 땡하고 부터 평점 쏟아지는게 말이 돼냐? 요즘 조조는 꼭두새벽부터 함? 백번양보해서 시사회때 봤다 쳐도 이렇게나 많이 봤다고? 죄다 똑같은 말투에? 음원이고 영화고 조작질 역겹다 진짜\n",
      "이름: 어쩌라고(dpfk****)\n",
      " \n",
      "평점9\n",
      "리뷰: 한국식 피칠갑을 한 타란티노 영화\n",
      "이름: hojo****\n",
      " \n",
      "평점9\n",
      "리뷰: 관람객\n",
      "이름: Cjin(dlck****)\n",
      " \n",
      "평점10\n",
      "리뷰: 스토리가 짱짱하네요~ 심리적인 긴장감을 잘 살린 영화인것 같네요~ 인기좀 끌듯...\n",
      "이름: trau****\n",
      " \n"
     ]
    }
   ],
   "source": [
    "comment = reple.find_all('li')\n",
    "result = []\n",
    "for i in comment:\n",
    "    temp = []\n",
    "    star = i.find('em')\n",
    "    print('평점'+ star.get_text())\n",
    "    context = i.find('div', class_='score_reple')\n",
    "    print('리뷰: '+ context.find('span').get_text().strip())\n",
    "    name = context.find('dt')\n",
    "    print('이름: ' + name.find('span').get_text())\n",
    "    temp.append(star.get_text())\n",
    "    temp.append(context.find('span').get_text().strip())\n",
    "    temp.append(name.find('span').get_text())\n",
    "    result.append(temp)\n",
    "    print(' ')"
   ]
  },
  {
   "cell_type": "code",
   "execution_count": 129,
   "metadata": {},
   "outputs": [],
   "source": [
    "url = 'https://movie.naver.com/movie/bi/mi/pointWriteFormList.nhn?code=179181&type=after&isActualPointWriteExecute=false&isMileageSubscriptionAlready=false&isMileageSubscriptionReject=false&page=2'\n",
    "html = urlopen(url).read()"
   ]
  },
  {
   "cell_type": "code",
   "execution_count": 130,
   "metadata": {},
   "outputs": [],
   "source": [
    "soup = BeautifulSoup(html, 'html.parser')\n",
    "reple = soup.find('div', class_='score_result')"
   ]
  },
  {
   "cell_type": "code",
   "execution_count": 131,
   "metadata": {},
   "outputs": [
    {
     "name": "stdout",
     "output_type": "stream",
     "text": [
      "평점10\n",
      "리뷰: 관람객\n",
      "이름: 꽁끼(bamb****)\n",
      " \n",
      "평점10\n",
      "리뷰: 전도연을 위한, 전도연에 의한 영화! 데뷔작이라고는 믿을수 없는 연출력에놀랐다~\n",
      "이름: Linus(getu****)\n",
      " \n",
      "평점10\n",
      "리뷰: 이 캐스팅 너무 마음에 든다.영화보고나서도 할말이 많아지는 영화\n",
      "이름: myd5q3ji7(i2g1****)\n",
      " \n",
      "평점9\n",
      "리뷰: 솔직히 이 영화 돈주고 볼만합니다ㅎㅎ\n",
      "이름: 파리투나잇(lgxe****)\n",
      " \n",
      "평점1\n",
      "리뷰: 방금 보고 왔는데 지금 심정이 지푸라기라도 잡고 싶은 심정이다\n",
      "이름: osk1****\n",
      " \n",
      "평점9\n",
      "리뷰: 다들너무연기를잘하고일단 이런 스토리탄탄한영화 오랜만이네요 굿굿구성도재밋고\n",
      "이름: 히피아(whdt****)\n",
      " \n",
      "평점10\n",
      "리뷰: 관람객\n",
      "이름: 꿈꾸는피터팬(dowk****)\n",
      " \n",
      "평점10\n",
      "리뷰: 관람객\n",
      "이름: 시무룩(simu****)\n",
      " \n",
      "평점10\n",
      "리뷰: 인정할 수 밖에 없는 영화\n",
      "이름: nu(zkkb****)\n",
      " \n",
      "평점10\n",
      "리뷰: 관람객\n",
      "이름: 서열0위(msky****)\n",
      " \n"
     ]
    }
   ],
   "source": [
    "comment = reple.find_all('li')\n",
    "for i in comment:\n",
    "    temp = []\n",
    "    star = i.find('em')\n",
    "    print('평점'+ star.get_text())\n",
    "    context = i.find('div', class_='score_reple')\n",
    "    print('리뷰: '+ context.find('span').get_text().strip())\n",
    "    name = context.find('dt')\n",
    "    print('이름: ' + name.find('span').get_text())\n",
    "    temp.append(star.get_text())\n",
    "    temp.append(context.find('span').get_text().strip())\n",
    "    temp.append(name.find('span').get_text())\n",
    "    result.append(temp)\n",
    "    print(' ')"
   ]
  },
  {
   "cell_type": "code",
   "execution_count": 134,
   "metadata": {},
   "outputs": [
    {
     "data": {
      "text/plain": [
       "[['10',\n",
       "  '난 전도연의 화류계 캐릭터가 좋다. 무뢰한, 너는 내 운명, 카운트다운...그리고 지푸라기',\n",
       "  'bohemian(mabu****)'],\n",
       " ['10', '전도연 연기 진짜 오진다...와 이 영화에서 완전 섹시하게 나온다 역시 명불허전임...', '최정규(cjg4****)'],\n",
       " ['10', '8명의 배우가 모두 주인공 같은 느낌.', '달다(fxko****)'],\n",
       " ['9', '개존잼 역시 전도연이죠? 카리스마 미쳐벌여ㅠㅁㅠ', '써니(tlag****)'],\n",
       " ['10', '연출, 연기, 스토리 모두 대박...무조건 보세요.', '까칠소녀(oper****)'],\n",
       " ['9', '관람객', 'haeunnnnn(0_80****)'],\n",
       " ['1',\n",
       "  '아니 개봉당일날 9시 땡하고 부터 평점 쏟아지는게 말이 돼냐? 요즘 조조는 꼭두새벽부터 함? 백번양보해서 시사회때 봤다 쳐도 이렇게나 많이 봤다고? 죄다 똑같은 말투에? 음원이고 영화고 조작질 역겹다 진짜',\n",
       "  '어쩌라고(dpfk****)'],\n",
       " ['9', '한국식 피칠갑을 한 타란티노 영화', 'hojo****'],\n",
       " ['9', '관람객', 'Cjin(dlck****)'],\n",
       " ['10', '스토리가 짱짱하네요~ 심리적인 긴장감을 잘 살린 영화인것 같네요~ 인기좀 끌듯...', 'trau****'],\n",
       " ['10', '관람객', '꽁끼(bamb****)'],\n",
       " ['10', '전도연을 위한, 전도연에 의한 영화! 데뷔작이라고는 믿을수 없는 연출력에놀랐다~', 'Linus(getu****)'],\n",
       " ['10', '이 캐스팅 너무 마음에 든다.영화보고나서도 할말이 많아지는 영화', 'myd5q3ji7(i2g1****)'],\n",
       " ['9', '솔직히 이 영화 돈주고 볼만합니다ㅎㅎ', '파리투나잇(lgxe****)'],\n",
       " ['1', '방금 보고 왔는데 지금 심정이 지푸라기라도 잡고 싶은 심정이다', 'osk1****'],\n",
       " ['9', '다들너무연기를잘하고일단 이런 스토리탄탄한영화 오랜만이네요 굿굿구성도재밋고', '히피아(whdt****)'],\n",
       " ['10', '관람객', '꿈꾸는피터팬(dowk****)'],\n",
       " ['10', '관람객', '시무룩(simu****)'],\n",
       " ['10', '인정할 수 밖에 없는 영화', 'nu(zkkb****)'],\n",
       " ['10', '관람객', '서열0위(msky****)']]"
      ]
     },
     "execution_count": 134,
     "metadata": {},
     "output_type": "execute_result"
    }
   ],
   "source": [
    "result"
   ]
  },
  {
   "cell_type": "code",
   "execution_count": 135,
   "metadata": {},
   "outputs": [
    {
     "data": {
      "text/plain": [
       "20"
      ]
     },
     "execution_count": 135,
     "metadata": {},
     "output_type": "execute_result"
    }
   ],
   "source": [
    "len(result)"
   ]
  },
  {
   "cell_type": "markdown",
   "metadata": {},
   "source": [
    "### 4. 저장하기"
   ]
  },
  {
   "cell_type": "code",
   "execution_count": null,
   "metadata": {},
   "outputs": [],
   "source": [
    "def save(context):\n",
    "    f = open('data.txt', 'w')\n",
    "    f.write(context)\n",
    "    f.close"
   ]
  },
  {
   "cell_type": "code",
   "execution_count": 139,
   "metadata": {},
   "outputs": [],
   "source": [
    "import pandas as pd\n",
    "data = pd.DataFrame(result)"
   ]
  },
  {
   "cell_type": "code",
   "execution_count": 142,
   "metadata": {},
   "outputs": [],
   "source": [
    "data.columns = ['star', 'review', 'writer']\n",
    "data.to_csv('크롤링결과.csv', encoding='cp949')"
   ]
  }
 ],
 "metadata": {
  "kernelspec": {
   "display_name": "Python 3",
   "language": "python",
   "name": "python3"
  },
  "language_info": {
   "codemirror_mode": {
    "name": "ipython",
    "version": 3
   },
   "file_extension": ".py",
   "mimetype": "text/x-python",
   "name": "python",
   "nbconvert_exporter": "python",
   "pygments_lexer": "ipython3",
   "version": "3.7.4"
  }
 },
 "nbformat": 4,
 "nbformat_minor": 2
}
