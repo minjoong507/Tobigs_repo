{
 "cells": [
  {
   "cell_type": "markdown",
   "metadata": {},
   "source": [
    "# 안녕하세요 투빅스 보충 과제입니다 :)\n",
    "\n",
    "안녕하세요 투빅스 12기 김태한입니다 :)\n",
    "\n",
    "이번 과제는 코로나 바이러스로 예상치 못한 휴식시간이 생겨 여러분의 딥러닝 감을 유지하고자 드리게 되었습니다.  \n",
    "\n",
    "투빅이분들이라면 분명 쉽게 해낼거라 믿습니다!!\n",
    "\n",
    "\n",
    "모르시는 거 있으시면 저 그리고 12기 멘토분들을 많이 많이 괴롭혀주세요!!!"
   ]
  },
  {
   "cell_type": "markdown",
   "metadata": {},
   "source": [
    "# Assignment 1"
   ]
  },
  {
   "cell_type": "markdown",
   "metadata": {},
   "source": [
    "여러분들은 저번 과제로 뉴럴넷 구현을 이미 한번 하셨습니다!  \n",
    "\n",
    "사실 이번 과제의 최종 목적도 뉴럴넷 구현인데요 이미 한번 하셨고 실력들이 워낙 출중하셔서 금방금방 하실수 있으실거에요.  \n",
    "\n",
    "구현에 바로 들어가기에 앞서 전체 네트워크 구조와 각 구성요소의 행렬 차원 및 오차역전파(back propagation) 복습이 1번 과제입니다.  \n",
    "\n",
    "**?** 에 들어갈 수식을 채워주시면 됩니다!!  "
   ]
  },
  {
   "cell_type": "markdown",
   "metadata": {},
   "source": [
    "## Matrix Shape 정리\n",
    "\n",
    "n : sample_data 수  \n",
    "d : input_dimension  \n",
    "h : hidden_layer_dimension  \n",
    "c : output_dimension  \n",
    "\n",
    "X : input_data  \n",
    "W1 : layer1_weight  \n",
    "b1 : layer1_bias  \n",
    "H : X*W1+b1\n",
    "A : activation function 거친 value\n",
    "W2 : layer2_weight  \n",
    "b2 : layer2_bias  \n",
    "S : A*W2+b2  \n",
    "P : softmax 거친 value  \n",
    "\n",
    "**X==(n,d)  \n",
    "W1==(d,h) 채워주세요  \n",
    "b1==(h,)  \n",
    "H==(n,h) 채워주세요  \n",
    "A==(n,h)  \n",
    "W2==(h,c)  \n",
    "b2==(c,) 채워주세요  \n",
    "S==(n,c) 채워주세요  \n",
    "P==(n,c)**"
   ]
  },
  {
   "cell_type": "markdown",
   "metadata": {},
   "source": [
    "## Matrix 미분 정리\n",
    "$H = XW+b　　　(n,h) = (n,d)x(d,h)+(h,)$  \n",
    "$L = f(H)$  \n",
    "$\\frac{\\partial L}{\\partial W} = \\frac{\\partial H}{\\partial W} \\times \\frac{\\partial L}{\\partial H} = X * \\frac{\\partial L}{\\partial H}$ 　채워주세요  \n",
    "$\\frac{\\partial L}{\\partial X} = \\frac{\\partial L}{\\partial H} \\times \\frac{\\partial H}{\\partial W} = \\frac{\\partial L}{\\partial H} * X$ 　채워주세요  \n",
    "$\\frac{\\partial L}{\\partial b} = 1*\\frac{\\partial L}{\\partial H}$  "
   ]
  },
  {
   "cell_type": "markdown",
   "metadata": {},
   "source": [
    "## 2Layers Chain Rule 정리\n",
    "**Forward** \n",
    "\n",
    "$H = XW_{1} + b$  \n",
    "$A = ReLU(H)$  \n",
    "$S = AW_{2} + b_{2}$  \n",
    "$P = Softmax(S)$  \n",
    "$L = -LogLikelihood(P)$\n",
    "\n",
    "\n",
    "**Backward**\n",
    "\n",
    "$\\frac{\\partial L}{\\partial S} = P-T$　:　T는 Label  \n",
    "$\\frac{\\partial L}{\\partial W_{2}} = \\frac{\\partial S}{\\partial W_{2}}\\frac{\\partial L}{\\partial S} = A * (P - T)$ 　채워주세요  \n",
    "$\\frac{\\partial L}{\\partial b_{2}} = 1*\\frac{\\partial L}{\\partial S} = P-T$  \n",
    "$\\frac{\\partial L}{\\partial A} = \\frac{\\partial L}{\\partial S}\\frac{\\partial S}{\\partial A} = ?$　채워주세요  \n",
    "$\\frac{\\partial L}{\\partial H} = \\frac{\\partial A}{\\partial H}\\frac{\\partial L}{\\partial A}$  \n",
    "$\\frac{\\partial L}{\\partial W_{1}} = \\frac{\\partial H}{\\partial W_{1}}\\frac{\\partial L}{\\partial H} = X^{T}\\frac{\\partial L}{\\partial H}$  \n",
    "$\\frac{\\partial L}{\\partial b_{1}} = \\frac{\\partial L}{\\partial H}$  "
   ]
  },
  {
   "cell_type": "markdown",
   "metadata": {},
   "source": [
    "# Assignment 2"
   ]
  },
  {
   "cell_type": "markdown",
   "metadata": {},
   "source": [
    "같이 드린 파일중 model.py라는 파일이 있을거에요!!!  \n",
    "그 친구의 빈칸을 채워주시면 되겠습니다~!!  \n",
    "model.py의 함수는 assignment3의 모델 만들기에서 사용되니 참고하시면서 채워주시면 도움이 될거에요!"
   ]
  },
  {
   "cell_type": "markdown",
   "metadata": {},
   "source": [
    "# Assignment 3"
   ]
  },
  {
   "cell_type": "markdown",
   "metadata": {},
   "source": [
    "자 이제 저희가 구현한 모델을 가지고 한번 cifar-10 dataset을 학습해볼게요!!  \n",
    "근데 시작하기에 앞서 pip install keras 를 해주세요!!  \n",
    "\n",
    "3번과제의 목적은 하이퍼파라미터를 튜닝하던 다른방법을 사용하던 해서 마지막에 그림그리기에서 높은 validation accuracy가 나오도록 하는 과제입니다!!  \n",
    "\n",
    "모델을 2층이아니라 본인만의 3층으로 발전시켜도 좋구요 다른 여러가지 방법들이 있겠죠!?!?!?  \n",
    "\n",
    "가장 높은 validation accuracy를 뽑으신 분께 상품을 드리겠습니다아~!!!"
   ]
  },
  {
   "cell_type": "markdown",
   "metadata": {},
   "source": [
    "### 데이터 load\n",
    "\n",
    "keras 프레임워크를 이용하여 데이터를 로드해 옵니다.  \n",
    "32*32*3차원의 데이터를 3072차원으로 바꾸는 것 까지 해드릴게요.\n",
    "필요하면 sklearn.preprocessing의 scaler를 사용해보셔도 좋습니다!"
   ]
  },
  {
   "cell_type": "code",
   "execution_count": 119,
   "metadata": {},
   "outputs": [],
   "source": [
    "#from tensorflow.keras.datasets\n",
    "import numpy as np\n",
    "import tensorflow.keras\n",
    "from Model import TwoLayerNet\n",
    "from matplotlib import pyplot as plt"
   ]
  },
  {
   "cell_type": "code",
   "execution_count": 120,
   "metadata": {},
   "outputs": [],
   "source": [
    "x_train = np.load(\"./x_train_data.npy\")\n",
    "y_train = np.load(\"./y_train_data.npy\")\n",
    "x_test = np.load(\"./x_test_data.npy\")\n",
    "y_test = np.load(\"./y_test_data.npy\")"
   ]
  },
  {
   "cell_type": "code",
   "execution_count": 182,
   "metadata": {},
   "outputs": [],
   "source": [
    "import numpy as np\n",
    "import math\n",
    "\n",
    "class TwoLayerNet():\n",
    "    \"\"\"\n",
    "    2 Layer Network를 만드려고 합니다.\n",
    "\n",
    "    해당 네트워크는 아래의 구조를 따릅니다.\n",
    "\n",
    "    input - Linear - ReLU - Linear - Softmax\n",
    "\n",
    "    Softmax 결과는 입력 N개의 데이터에 대해 개별 클래스에 대한 확률입니다.\n",
    "    \"\"\"\n",
    "\n",
    "    def __init__(self, X, input_size, hidden_size, output_size, std=1e-4):\n",
    "         \"\"\"\n",
    "         네트워크에 필요한 가중치들을 initialization합니다.\n",
    "         initialized by random values\n",
    "         해당 가중치들은 self.params 라는 Dictionary에 담아둡니다.\n",
    "\n",
    "         input_size: 데이터의 변수 개수 - D\n",
    "         hidden_size: 히든 층의 H 개수 - H\n",
    "         output_size: 클래스 개수 - C\n",
    "\n",
    "         \"\"\"\n",
    "\n",
    "         self.params = {}\n",
    "         self.params[\"W1\"] = std * np.random.randn(input_size, hidden_size)\n",
    "         self.params[\"b1\"] = np.random.randn(hidden_size)\n",
    "         self.params[\"W2\"] = std * np.random.randn(hidden_size, output_size)\n",
    "         self.params[\"b2\"] = np.random.randn(output_size)\n",
    "\n",
    "    def forward(self, X, y=None):\n",
    "\n",
    "        \"\"\"\n",
    "\n",
    "        X: input 데이터 (N, D)\n",
    "        y: 레이블 (N,)\n",
    "\n",
    "        Linear - ReLU - Linear - Softmax - CrossEntropy Loss\n",
    "\n",
    "        y가 주어지지 않으면 Softmax 결과 p와 Activation 결과 a를 return합니다. p와 a 모두 backward에서 미분할때 사용합니다.\n",
    "        y가 주어지면 CrossEntropy Error를 return합니다.\n",
    "\n",
    "        \"\"\"\n",
    "\n",
    "        W1, b1 = self.params[\"W1\"], self.params[\"b1\"]\n",
    "        W2, b2 = self.params[\"W2\"], self.params[\"b2\"]\n",
    "        N, D = X.shape\n",
    "\n",
    "        # 여기에 p를 구하는 작업을 수행하세요.\n",
    "        \n",
    "        h = np.dot(X, W1) + b1\n",
    "        a = np.maximum(0, h) \n",
    "        o = np.dot(a, W2) + b2\n",
    "        p = np.exp(o)/np.sum(np.exp(o),axis=1).reshape(-1,1)\n",
    "\n",
    "        if y is None:\n",
    "            return p, a\n",
    "        \n",
    "        # 여기에 Loss를 구하는 작업을 수행하세요.\n",
    "        \n",
    "        correct_logprobs = -np.log(p[range(N), y])  # (N,1)\n",
    "        Loss = np.sum(correct_logprobs) / N\n",
    "\n",
    "#        print('loss : ',Loss)\n",
    "\n",
    "        return Loss\n",
    "\n",
    "\n",
    "\n",
    "    def backward(self, X, y, learning_rate=1e-5):\n",
    "        \"\"\"\n",
    "\n",
    "        X: input 데이터 (N, D)\n",
    "        y: 레이블 (N,)\n",
    "\n",
    "        grads에는 Loss에 대한 W1, b1, W2, b2 미분 값이 기록됩니다.\n",
    "\n",
    "        원래 backw 미분 결과를 return 하지만\n",
    "        여기서는 Gradient Descent방식으로 가중치 갱신까지 합니다.\n",
    "\n",
    "        \"\"\"\n",
    "        W1, b1 = self.params[\"W1\"], self.params[\"b1\"]\n",
    "        W2, b2 = self.params[\"W2\"], self.params[\"b2\"]\n",
    "        N = X.shape[0] # 데이터 개수\n",
    "        grads = {}\n",
    "\n",
    "        p, a = self.forward(X)\n",
    "\n",
    "        # 여기에 파라미터에 대한 미분을 저장하세요.\n",
    "\n",
    "        dp = p\n",
    "        for i in range(p.shape[0]):\n",
    "            for j in range(p.shape[1]):\n",
    "                if(j==y[i]):\n",
    "                    dp[i][j]-=1\n",
    "          # p-y\n",
    "        da = np.dot(dp,W2.T)\n",
    "        dr = np.heaviside(a,0)\n",
    "        dh = dr * da\n",
    "        \n",
    "        grads[\"W2\"] = np.dot(a.T, dp)\n",
    "        grads[\"b2\"] = np.sum(dp, axis=0)\n",
    "        grads[\"W1\"] = np.dot(X.T, dh)\n",
    "        grads[\"b1\"] = np.sum(dh, axis=0)\n",
    "\n",
    "        self.params[\"W2\"] -= learning_rate * grads[\"W2\"]\n",
    "        self.params[\"b2\"] -= learning_rate * grads[\"b2\"]\n",
    "        self.params[\"W1\"] -= learning_rate * grads[\"W1\"]\n",
    "        self.params[\"b1\"] -= learning_rate * grads[\"b1\"]\n",
    "\n",
    "    def accuracy(self, X, y):\n",
    "\n",
    "        p, _ = self.forward(X)\n",
    "        \n",
    "        \n",
    "        pre_p = np.argmax(p,axis=1)\n",
    "\n",
    "        return np.sum(pre_p==y)/pre_p.shape[0]\n"
   ]
  },
  {
   "cell_type": "code",
   "execution_count": 183,
   "metadata": {},
   "outputs": [],
   "source": [
    "def preprocessing_data(x_train, x_test, y_train, y_test):\n",
    "    #change dtype\n",
    "    x_train = np.array(x_train, dtype=np.float64)\n",
    "    x_test = np.array(x_test, dtype=np.float64)\n",
    "    \n",
    "    #reshaping\n",
    "    x_train = np.reshape(x_train, (x_train.shape[0], -1))\n",
    "    x_test = np.reshape(x_test, (x_test.shape[0], -1))\n",
    "    \n",
    "    y_train = np.reshape(y_train, (y_train.shape[0],))\n",
    "    y_test = np.reshape(y_test, (y_test.shape[0],))\n",
    "        \n",
    "    #normalizing\n",
    "    mean_value = np.mean(x_train, axis=0)\n",
    "    x_train -= mean_value\n",
    "    x_test -= mean_value\n",
    "    \n",
    "    return x_train, x_test, y_train, y_test"
   ]
  },
  {
   "cell_type": "code",
   "execution_count": 184,
   "metadata": {},
   "outputs": [],
   "source": [
    "x_train, x_test, y_train, y_test = preprocessing_data(x_train, x_test, y_train, y_test)"
   ]
  },
  {
   "cell_type": "code",
   "execution_count": 185,
   "metadata": {},
   "outputs": [
    {
     "name": "stdout",
     "output_type": "stream",
     "text": [
      "(5000, 3072)\n",
      "(1000, 3072)\n",
      "(5000,)\n",
      "(1000,)\n"
     ]
    }
   ],
   "source": [
    "print(x_train.shape)\n",
    "print(x_test.shape)\n",
    "print(y_train.shape)\n",
    "print(y_test.shape)"
   ]
  },
  {
   "cell_type": "markdown",
   "metadata": {},
   "source": [
    "데이터가 너무 많아서 5000개랑 1000개만 사용해보도록 할게요"
   ]
  },
  {
   "cell_type": "code",
   "execution_count": 186,
   "metadata": {},
   "outputs": [],
   "source": [
    "x_train = x_train[:5000]\n",
    "y_train = y_train[:5000]\n",
    "x_test = x_test[:1000]\n",
    "y_test = y_test[:1000]"
   ]
  },
  {
   "cell_type": "markdown",
   "metadata": {},
   "source": [
    "### 데이터 확인\n",
    "\n",
    "실제 데이터가 어떻게 생겼는지 한번 봅시다"
   ]
  },
  {
   "cell_type": "code",
   "execution_count": 187,
   "metadata": {},
   "outputs": [
    {
     "data": {
      "text/plain": [
       "array([[ -72.4542,  -74.3766,  -69.681 , ...,   -4.4978,  -34.203 ,\n",
       "         -42.7262],\n",
       "       [  22.5458,   40.6234,   54.319 , ...,   15.5022,    6.797 ,\n",
       "          29.2738],\n",
       "       [ 123.5458,  118.6234,  122.319 , ...,  -47.4978,  -40.203 ,\n",
       "         -30.7262],\n",
       "       ...,\n",
       "       [  35.5458,   26.6234,   12.319 , ...,  -85.4978,  -48.203 ,\n",
       "         -30.7262],\n",
       "       [  22.5458,   15.6234,   -7.681 , ...,   66.5022,  120.797 ,\n",
       "          -0.7262],\n",
       "       [ -86.4542, -104.3766, -111.681 , ...,   28.5022,   15.797 ,\n",
       "         -14.7262]])"
      ]
     },
     "execution_count": 187,
     "metadata": {},
     "output_type": "execute_result"
    }
   ],
   "source": [
    "x_train"
   ]
  },
  {
   "cell_type": "markdown",
   "metadata": {},
   "source": [
    "### 하이퍼파라미터 설정\n",
    "\n",
    "이제 하이퍼파라미터를 설정해볼게요.  \n",
    "hidden_size, epoch_size, batch_size, learning_rate등은 전부 하이퍼 파라미터이니 바꾸면서 도전해보세요!!"
   ]
  },
  {
   "cell_type": "code",
   "execution_count": 188,
   "metadata": {},
   "outputs": [],
   "source": [
    "input_size = 32 * 32 * 3\n",
    "hidden_size = 50\n",
    "output_size = 10\n",
    "epoch_size = 1000\n",
    "batch_size = 100\n",
    "learning_rate = 0.0001\n",
    "N = x_train.shape[0]"
   ]
  },
  {
   "cell_type": "markdown",
   "metadata": {},
   "source": [
    "### 모델 만들기\n",
    "\n",
    "input_size, hidden_size, output_size는 데이터에 맞게 잘 설정해주세요."
   ]
  },
  {
   "cell_type": "code",
   "execution_count": 189,
   "metadata": {},
   "outputs": [],
   "source": [
    "batch_mask = np.random.choice(N, batch_size) #이번 배치에서 쓸 데이터들 인덱스 추출\n",
    "x_batch = x_train[batch_mask]"
   ]
  },
  {
   "cell_type": "code",
   "execution_count": 190,
   "metadata": {},
   "outputs": [],
   "source": [
    "nn = TwoLayerNet(x_batch, input_size=input_size, hidden_size=hidden_size, output_size=output_size)"
   ]
  },
  {
   "cell_type": "code",
   "execution_count": 191,
   "metadata": {},
   "outputs": [
    {
     "name": "stdout",
     "output_type": "stream",
     "text": [
      "0 test accuracy : 0.112\n",
      "0 test loss     : 2.878792792023327\n",
      "10 test accuracy : 0.112\n",
      "10 test loss     : 2.861561983891291\n",
      "20 test accuracy : 0.144\n",
      "20 test loss     : 2.677284481336812\n",
      "30 test accuracy : 0.175\n",
      "30 test loss     : 2.456449145434655\n",
      "40 test accuracy : 0.197\n",
      "40 test loss     : 2.3574355240117675\n",
      "50 test accuracy : 0.203\n",
      "50 test loss     : 2.2303736154884963\n",
      "60 test accuracy : 0.221\n",
      "60 test loss     : 2.1619694804770724\n",
      "70 test accuracy : 0.237\n",
      "70 test loss     : 2.120655837908135\n",
      "80 test accuracy : 0.251\n",
      "80 test loss     : 2.0917829089709423\n",
      "90 test accuracy : 0.251\n",
      "90 test loss     : 2.072487545192078\n",
      "100 test accuracy : 0.252\n",
      "100 test loss     : 2.0556227956692665\n",
      "110 test accuracy : 0.259\n",
      "110 test loss     : 2.0399027746102583\n",
      "120 test accuracy : 0.27\n",
      "120 test loss     : 2.02374501858142\n",
      "130 test accuracy : 0.271\n",
      "130 test loss     : 2.0082068477780726\n",
      "140 test accuracy : 0.273\n",
      "140 test loss     : 1.992564578986089\n",
      "150 test accuracy : 0.27\n",
      "150 test loss     : 1.9770888760424477\n",
      "160 test accuracy : 0.274\n",
      "160 test loss     : 1.963539470013354\n",
      "170 test accuracy : 0.283\n",
      "170 test loss     : 1.94930611638278\n",
      "180 test accuracy : 0.289\n",
      "180 test loss     : 1.934893639223043\n",
      "190 test accuracy : 0.288\n",
      "190 test loss     : 1.9221868657168275\n",
      "200 test accuracy : 0.298\n",
      "200 test loss     : 1.9093027814827788\n",
      "210 test accuracy : 0.306\n",
      "210 test loss     : 1.8967616433502543\n",
      "220 test accuracy : 0.31\n",
      "220 test loss     : 1.8848015338290762\n",
      "230 test accuracy : 0.314\n",
      "230 test loss     : 1.8720983636400363\n",
      "240 test accuracy : 0.323\n",
      "240 test loss     : 1.8611199668460867\n",
      "250 test accuracy : 0.332\n",
      "250 test loss     : 1.852124517937911\n",
      "260 test accuracy : 0.333\n",
      "260 test loss     : 1.8428886730445924\n",
      "270 test accuracy : 0.338\n",
      "270 test loss     : 1.8334034731697089\n",
      "280 test accuracy : 0.336\n",
      "280 test loss     : 1.826370276697964\n",
      "290 test accuracy : 0.338\n",
      "290 test loss     : 1.8177795295131787\n",
      "300 test accuracy : 0.341\n",
      "300 test loss     : 1.8103747695284853\n",
      "310 test accuracy : 0.351\n",
      "310 test loss     : 1.805293295589816\n",
      "320 test accuracy : 0.351\n",
      "320 test loss     : 1.7988017630530302\n",
      "330 test accuracy : 0.352\n",
      "330 test loss     : 1.7915560721532202\n",
      "340 test accuracy : 0.358\n",
      "340 test loss     : 1.7870164118809388\n",
      "350 test accuracy : 0.361\n",
      "350 test loss     : 1.7812212704143127\n",
      "360 test accuracy : 0.36\n",
      "360 test loss     : 1.7772960499248218\n",
      "370 test accuracy : 0.359\n",
      "370 test loss     : 1.7732802610689264\n",
      "380 test accuracy : 0.361\n",
      "380 test loss     : 1.7693420983066621\n",
      "390 test accuracy : 0.362\n",
      "390 test loss     : 1.7644612765221996\n",
      "400 test accuracy : 0.363\n",
      "400 test loss     : 1.7605338186109187\n",
      "410 test accuracy : 0.364\n",
      "410 test loss     : 1.7553553547149685\n",
      "420 test accuracy : 0.371\n",
      "420 test loss     : 1.7523085572872934\n",
      "430 test accuracy : 0.366\n",
      "430 test loss     : 1.7489877085690972\n",
      "440 test accuracy : 0.377\n",
      "440 test loss     : 1.7463391784064866\n",
      "450 test accuracy : 0.373\n",
      "450 test loss     : 1.743139179197156\n",
      "460 test accuracy : 0.374\n",
      "460 test loss     : 1.7394250374362268\n",
      "470 test accuracy : 0.379\n",
      "470 test loss     : 1.736323886198641\n",
      "480 test accuracy : 0.378\n",
      "480 test loss     : 1.734246938526678\n",
      "490 test accuracy : 0.381\n",
      "490 test loss     : 1.7316749566514882\n",
      "500 test accuracy : 0.382\n",
      "500 test loss     : 1.7287138262691542\n",
      "510 test accuracy : 0.383\n",
      "510 test loss     : 1.7267598449839625\n",
      "520 test accuracy : 0.381\n",
      "520 test loss     : 1.7242222865564767\n",
      "530 test accuracy : 0.384\n",
      "530 test loss     : 1.7215042564776792\n",
      "540 test accuracy : 0.386\n",
      "540 test loss     : 1.7192275006333666\n",
      "550 test accuracy : 0.387\n",
      "550 test loss     : 1.71800789576163\n",
      "560 test accuracy : 0.387\n",
      "560 test loss     : 1.7159223294494785\n",
      "570 test accuracy : 0.389\n",
      "570 test loss     : 1.71455809246221\n",
      "580 test accuracy : 0.388\n",
      "580 test loss     : 1.7130501510053167\n",
      "590 test accuracy : 0.391\n",
      "590 test loss     : 1.7117887341397255\n",
      "600 test accuracy : 0.386\n",
      "600 test loss     : 1.712453605670583\n",
      "610 test accuracy : 0.392\n",
      "610 test loss     : 1.7101771118525897\n",
      "620 test accuracy : 0.393\n",
      "620 test loss     : 1.7071329414756864\n",
      "630 test accuracy : 0.397\n",
      "630 test loss     : 1.7071659157126304\n",
      "640 test accuracy : 0.399\n",
      "640 test loss     : 1.7054015961061886\n",
      "650 test accuracy : 0.4\n",
      "650 test loss     : 1.7058384293121085\n",
      "660 test accuracy : 0.398\n",
      "660 test loss     : 1.7054160845076012\n",
      "670 test accuracy : 0.401\n",
      "670 test loss     : 1.704378082857233\n",
      "680 test accuracy : 0.401\n",
      "680 test loss     : 1.7042503402451743\n",
      "690 test accuracy : 0.401\n",
      "690 test loss     : 1.7032123573680524\n",
      "700 test accuracy : 0.398\n",
      "700 test loss     : 1.7037191754834762\n",
      "710 test accuracy : 0.394\n",
      "710 test loss     : 1.7032950307906507\n",
      "720 test accuracy : 0.4\n",
      "720 test loss     : 1.7037296576136483\n",
      "730 test accuracy : 0.398\n",
      "730 test loss     : 1.7050482148285948\n",
      "740 test accuracy : 0.401\n",
      "740 test loss     : 1.7021755600764303\n",
      "750 test accuracy : 0.398\n",
      "750 test loss     : 1.7031687240093099\n",
      "760 test accuracy : 0.401\n",
      "760 test loss     : 1.7016642745235362\n",
      "770 test accuracy : 0.401\n",
      "770 test loss     : 1.7033408050271603\n",
      "780 test accuracy : 0.401\n",
      "780 test loss     : 1.7043532582279166\n",
      "790 test accuracy : 0.398\n",
      "790 test loss     : 1.7029958583875815\n",
      "800 test accuracy : 0.392\n",
      "800 test loss     : 1.7042646451955092\n",
      "810 test accuracy : 0.397\n",
      "810 test loss     : 1.70384529509337\n",
      "820 test accuracy : 0.399\n",
      "820 test loss     : 1.7054242656019405\n",
      "830 test accuracy : 0.397\n",
      "830 test loss     : 1.7037865320572105\n",
      "840 test accuracy : 0.396\n",
      "840 test loss     : 1.7054511701538502\n",
      "850 test accuracy : 0.399\n",
      "850 test loss     : 1.7046879725259587\n",
      "860 test accuracy : 0.399\n",
      "860 test loss     : 1.7065079886915997\n",
      "870 test accuracy : 0.402\n",
      "870 test loss     : 1.7088082705961798\n",
      "880 test accuracy : 0.397\n",
      "880 test loss     : 1.7086554608055646\n",
      "890 test accuracy : 0.404\n",
      "890 test loss     : 1.7096396290352391\n",
      "900 test accuracy : 0.402\n",
      "900 test loss     : 1.7100555438817022\n",
      "910 test accuracy : 0.403\n",
      "910 test loss     : 1.7122286975152734\n",
      "920 test accuracy : 0.402\n",
      "920 test loss     : 1.7116518194508432\n",
      "930 test accuracy : 0.403\n",
      "930 test loss     : 1.715619778396276\n",
      "940 test accuracy : 0.403\n",
      "940 test loss     : 1.7141453663700503\n",
      "950 test accuracy : 0.407\n",
      "950 test loss     : 1.7162530239705194\n",
      "960 test accuracy : 0.405\n",
      "960 test loss     : 1.7166152792651288\n",
      "970 test accuracy : 0.397\n",
      "970 test loss     : 1.7193697092379043\n",
      "980 test accuracy : 0.4\n",
      "980 test loss     : 1.7224071139796842\n",
      "990 test accuracy : 0.404\n",
      "990 test loss     : 1.7215672276526341\n"
     ]
    }
   ],
   "source": [
    "history = {'val_acc': [],'val_loss': []} #기록해서 그림 그리자!\n",
    "\n",
    "#코드를 보며 epoch, batch에 대해서 이해해봅시다.\n",
    "for i in range(epoch_size):\n",
    "    for j in range(N//batch_size):\n",
    "        batch_mask = np.random.choice(N, batch_size) #이번 배치에서 쓸 데이터들 인덱스 추출\n",
    "        x_batch = x_train[batch_mask]\n",
    "        t_batch = y_train[batch_mask]\n",
    "        \n",
    "        nn.backward(x_batch, t_batch, 1e-7) # 가중치 갱신\n",
    "    \n",
    "    #accuracy와 loss를 기록해둡시다.\n",
    "    history[\"val_acc\"].append(nn.accuracy(x_test, y_test))\n",
    "    history[\"val_loss\"].append(nn.forward(x_test, y_test))\n",
    "    \n",
    "    if i % 10 == 0:\n",
    "        print(i, \"test accuracy :\", nn.accuracy(x_test, y_test))\n",
    "        print(i, \"test loss     :\", nn.forward(x_test, y_test))"
   ]
  },
  {
   "cell_type": "markdown",
   "metadata": {},
   "source": [
    "### 그림 그리기"
   ]
  },
  {
   "cell_type": "code",
   "execution_count": 192,
   "metadata": {},
   "outputs": [
    {
     "data": {
      "image/png": "[encoded data removed]",
      "text/plain": [
       "<Figure size 432x288 with 2 Axes>"
      ]
     },
     "metadata": {
      "needs_background": "light"
     },
     "output_type": "display_data"
    },
    {
     "name": "stdout",
     "output_type": "stream",
     "text": [
      "나의 최고 validation loss :  0.408\n"
     ]
    }
   ],
   "source": [
    "fig = plt.figure()\n",
    "ax_acc = fig.add_subplot(111)\n",
    "\n",
    "ax_acc.plot(range(epoch_size), history['val_acc'], label='정확도(%)', color='darkred')\n",
    "#plt.text(3, 14.7, \"<----------------정확도(%)\", verticalalignment='top', horizontalalignment='right')\n",
    "plt.xlabel('epochs')\n",
    "plt.ylabel('Validation Accuracy(%)')\n",
    "ax_acc.grid(linestyle='--', color='lavender')\n",
    "ax_loss = ax_acc.twinx()\n",
    "ax_loss.plot(range(epoch_size), history['val_loss'], label='오차', color='darkblue')\n",
    "#plt.text(3, 2.2, \"<----------------오차\", verticalalignment='top', horizontalalignment='left')\n",
    "plt.ylabel('Validation Error')\n",
    "ax_loss.yaxis.tick_right()\n",
    "ax_loss.grid(linestyle='--', color='lavender')\n",
    "\n",
    "# 그래프 표시\n",
    "plt.show()\n",
    "\n",
    "# 나의 최고 validation accuracy는? 두구두구~\n",
    "print(\"나의 최고 validation loss : \",max(history['val_acc']))"
   ]
  },
  {
   "cell_type": "code",
   "execution_count": null,
   "metadata": {},
   "outputs": [],
   "source": []
  }
 ],
 "metadata": {
  "kernelspec": {
   "display_name": "Python 3",
   "language": "python",
   "name": "python3"
  },
  "language_info": {
   "codemirror_mode": {
    "name": "ipython",
    "version": 3
   },
   "file_extension": ".py",
   "mimetype": "text/x-python",
   "name": "python",
   "nbconvert_exporter": "python",
   "pygments_lexer": "ipython3",
   "version": "3.7.4"
  }
 },
 "nbformat": 4,
 "nbformat_minor": 4
}
