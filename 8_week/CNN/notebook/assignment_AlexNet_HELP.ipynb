{
 "cells": [
  {
   "cell_type": "markdown",
   "metadata": {},
   "source": [
    "# assignment_AlexNet_HELP\n",
    "개요:\n",
    "- 첫번째 convolution 레이어와 pooling 레이어 그리고 fully connected 레이어에 대한 예시 답안을 보여서 과제를 더 수월히 할 수 있게"
   ]
  },
  {
   "cell_type": "markdown",
   "metadata": {},
   "source": [
    "<img src=\"images_for_notebook/AlexNet1.png\">\n",
    "\n",
    "- 위의 그림은 웹에서 돌아다니는 AlexNet 아키텍쳐를 설명하는 사진입니다.\n",
    "- 위의 그림을 볼 때 혼동을 일으킬 수 있는 점들 몇가지 있습니다:\n",
    "  - 우선 사진에는 input 이미지가 224 x 224로 표현되어 있습니다. CS231n Winter 2016: Lecture 7: Convolutional Neural Network 강의에 따르면 이런 표기는 아마 AlexNet 제작자가 실수로 쓴 것 때문에 생긴 문제 같다고 말합니다. (이로 인해 전세계에 혼란이...)\n",
    "  - Pooling 레이어가 명백하게 표기되어 있지 않습니다. 이 이미지에서 빨간색 삼각형들이 convolution을 나타내고 pooling은 따로 표현되어 있지 않습니다.\n",
    "\n",
    "<img src=\"images_for_notebook/AlexNet2.png\">\n",
    "\n",
    "- https://papers.nips.cc/paper/4824-imagenet-classification-with-deep-convolutional-neural-networks.pdf AlexNet 논문\n",
    "- 위의 그림이 AlexNet 논문에 나오는 그림입니다.\n",
    "\n",
    "<img src=\"images_for_notebook/AlexNet3.png\">\n",
    "\n",
    "- https://neurohive.io/en/popular-networks/alexnet-imagenet-classification-with-deep-convolutional-neural-networks/ 사진 출처\n",
    "- 위 사진이 좀 더 아키텍쳐를 잘 설명한 그림입니다.\n",
    "  - (사실상 답이 거의 다 나와있죠...? ㅎㅎ)\n",
    "  - 그래도 밑에서 여러분이 직접 계산해보기를 바랍니다."
   ]
  },
  {
   "cell_type": "markdown",
   "metadata": {},
   "source": [
    "### Naive Version\n",
    "CONV_1 - POOL_1 - CONV_2 - POOL_2 - CONV_3 - CONV_4 - CONV_5 - POOL_3 - FC1 - FC2 - FC3 (->SOFTMAX)"
   ]
  },
  {
   "cell_type": "markdown",
   "metadata": {},
   "source": [
    "### detailed\n",
    "CONV_1(ReLU) - POOL_1 - CONV_2(ReLU) - POOL_2 - CONV_3(ReLU) - CONV_4(ReLU) - CONV_5(ReLU) - POOL_3 -(Flatten) FC1(ReLU) - FC2(ReLU) - FC3(->SOFTMAX)"
   ]
  },
  {
   "cell_type": "markdown",
   "metadata": {},
   "source": [
    "# Q.1 fill in the '????' & 'TODO'"
   ]
  },
  {
   "cell_type": "markdown",
   "metadata": {},
   "source": [
    "### Layer 1 is a Convolution Layer_1\n",
    "\n",
    "- **Input Image size**     224 x 224 x 3 -> 227 x 227 x 3 (표기 실수로 인한 수정)\n",
    "  - IH:227 x IW:227 x IC:3\n",
    "\n",
    "- **Number of filters**   96\n",
    "  - FN:96\n",
    "\n",
    "- **Filter size** 11 x 11 x 3\n",
    "  - FH:11 x FW:11 x FC(항상 IC랑 같다):3\n",
    "\n",
    "- **Stride** 4\n",
    "  - S:4\n",
    "\n",
    "- **Layer 1 Output**  55 x 55 x 96 (because of stride 4)  OH x OW x FN\n",
    "  - OH:55 x OW:55 x FN(위의 FN이랑 같다):96 \n",
    "  - 아래 계산과정 참고\n",
    "  - 이게 다시 Input이 된다. OH -> IH, OW -> IW, FN -> IC"
   ]
  },
  {
   "cell_type": "code",
   "execution_count": 5,
   "metadata": {},
   "outputs": [
    {
     "data": {
      "text/plain": [
       "55.0"
      ]
     },
     "execution_count": 5,
     "metadata": {},
     "output_type": "execute_result"
    }
   ],
   "source": [
    "# Conv_1 = (IH + 2*P - FH) / S + 1 = \n",
    "(227 + 2*0 - 11) / 4 + 1"
   ]
  },
  {
   "cell_type": "code",
   "execution_count": 6,
   "metadata": {},
   "outputs": [
    {
     "data": {
      "text/plain": [
       "34944"
      ]
     },
     "execution_count": 6,
     "metadata": {},
     "output_type": "execute_result"
    }
   ],
   "source": [
    "## TODO ##\n",
    "\n",
    "######################################################\n",
    "#  Calculate the number of parameters in this layer  #\n",
    "######################################################\n",
    "\n",
    "# (FH * FW * FC) * FN + B = \n",
    "(11 * 11 * 3) * 96 + 96 "
   ]
  },
  {
   "cell_type": "markdown",
   "metadata": {},
   "source": [
    "### Layer 2 is a Max Pooling_1 Followed by Convolution_1\n",
    "\n",
    "- **Input**  55 x 55 x 96\n",
    "  - IH:55 x IW:55 x IC:96\n",
    "- **Max pooling**  \n",
    "\n",
    "- **Pooling size**(overlapping) 3 x 3\n",
    "  - FH:3 x FW:3\n",
    "\n",
    "- **Stride** 2\n",
    "  - S:2\n",
    "\n",
    "- **Layer 2 Output** 27 x 27 x 96\n",
    "  - 아래 계산과정 참고"
   ]
  },
  {
   "cell_type": "code",
   "execution_count": 8,
   "metadata": {},
   "outputs": [
    {
     "data": {
      "text/plain": [
       "27.0"
      ]
     },
     "execution_count": 8,
     "metadata": {},
     "output_type": "execute_result"
    }
   ],
   "source": [
    "# Pool_1 = (IH - FH) / S + 1 = \n",
    "(55 - 3) / 2 + 1 "
   ]
  },
  {
   "cell_type": "code",
   "execution_count": 9,
   "metadata": {},
   "outputs": [],
   "source": [
    "## TODO \n",
    "\n",
    "######################################################\n",
    "#  Calculate the number of parameters in this layer  #\n",
    "######################################################\n",
    "\n",
    "Max_pool_1 = 0 # 학습되는 파라미터가 없다"
   ]
  },
  {
   "cell_type": "markdown",
   "metadata": {},
   "source": [
    "# ... "
   ]
  },
  {
   "cell_type": "markdown",
   "metadata": {},
   "source": [
    "### Layer 9 is a Fully_Connected layer_1\n",
    "\n",
    "- **input** 6 x 6 x 256\n",
    "\n",
    "- **flatten** 위의 곱 9216\n",
    "\n",
    "- **output size** (N,flatten) x (flatten,4096) \n",
    "  - 4096은 계산되어 나온 숫자가 아닌 걍 하이퍼파라미터\n",
    "\n",
    "- **N** Number of input data = 6 x 6 x 256 (걍 위에꺼)"
   ]
  },
  {
   "cell_type": "code",
   "execution_count": 11,
   "metadata": {},
   "outputs": [
    {
     "data": {
      "text/plain": [
       "37752832"
      ]
     },
     "execution_count": 11,
     "metadata": {},
     "output_type": "execute_result"
    }
   ],
   "source": [
    "## TODO \n",
    "\n",
    "######################################################\n",
    "#  Calculate the number of parameters in this layer  #\n",
    "######################################################\n",
    "\n",
    "6 * 6 * 256 * 4096 + 4096"
   ]
  }
 ],
 "metadata": {
  "kernelspec": {
   "display_name": "Python 3",
   "language": "python",
   "name": "python3"
  },
  "language_info": {
   "codemirror_mode": {
    "name": "ipython",
    "version": 3
   },
   "file_extension": ".py",
   "mimetype": "text/x-python",
   "name": "python",
   "nbconvert_exporter": "python",
   "pygments_lexer": "ipython3",
   "version": "3.7.4"
  },
  "toc": {
   "base_numbering": 1,
   "nav_menu": {},
   "number_sections": false,
   "sideBar": true,
   "skip_h1_title": false,
   "title_cell": "Table of Contents",
   "title_sidebar": "Contents",
   "toc_cell": false,
   "toc_position": {},
   "toc_section_display": true,
   "toc_window_display": false
  },
  "varInspector": {
   "cols": {
    "lenName": 16,
    "lenType": 16,
    "lenVar": 40
   },
   "kernels_config": {
    "python": {
     "delete_cmd_postfix": "",
     "delete_cmd_prefix": "del ",
     "library": "var_list.py",
     "varRefreshCmd": "print(var_dic_list())"
    },
    "r": {
     "delete_cmd_postfix": ") ",
     "delete_cmd_prefix": "rm(",
     "library": "var_list.r",
     "varRefreshCmd": "cat(var_dic_list()) "
    }
   },
   "types_to_exclude": [
    "module",
    "function",
    "builtin_function_or_method",
    "instance",
    "_Feature"
   ],
   "window_display": false
  }
 },
 "nbformat": 4,
 "nbformat_minor": 2
}
