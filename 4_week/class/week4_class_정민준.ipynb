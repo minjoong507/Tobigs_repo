{
 "cells": [
  {
   "cell_type": "code",
   "execution_count": null,
   "metadata": {},
   "outputs": [],
   "source": [
    "import random"
   ]
  },
  {
   "cell_type": "code",
   "execution_count": null,
   "metadata": {},
   "outputs": [],
   "source": [
    "class MyDataLoader2:\n",
    "    def __init__(self, data1, data2):\n",
    "        # data1과 data2 크기는 같다고 가정합시다\n",
    "        self.size = len(data1)\n",
    "        self.data1 = data1\n",
    "        self.data2 = data2\n",
    "        ###### BLANK ####\n",
    "\n",
    "    # __iter__에서는 나를 반환해주고 __next__에서는 for loop가\n",
    "    # 돌떄마다 인쇄하고 싶은 값을 리턴합니다.\n",
    "    def __iter__(self):\n",
    "        self.index = 0\n",
    "        return self\n",
    "\n",
    "    def __next__(self):\n",
    "        if self.index < self.size:\n",
    "            r = self.data1[self.index] + self.data2[self.index]\n",
    "            self.index += 1\n",
    "            return r\n",
    "        else:\n",
    "            raise StopIteration\n",
    "\n",
    "    def shuffle(self):\n",
    "        random.shuffle(self.data1)\n",
    "        random.shuffle(self.data2)\n",
    "\n",
    "    def make_square(self):\n",
    "        self.data1 = [i * i for i in self.data1]\n",
    "        self.data2 = [i * i for i in self.data2]"
   ]
  },
  {
   "cell_type": "code",
   "execution_count": null,
   "metadata": {},
   "outputs": [],
   "source": [
    "loader = MyDataLoader2([i for i in range(300)], [i for i in range(300)])\n",
    "loader.make_square()  ## data1과 data2를 제곱할 수 있는 method를 완성해주세요!\n",
    "loader.shuffle()\n",
    "for i, x in enumerate(loader):  # for loop 가 도니까 __iter__\n",
    "    print(\"{} : {}\".format(i, x))  # i번째 data1과 data2를 더한 값을 리턴하도록 만들어주세요!\n"
   ]
  }
 ],
 "metadata": {
  "kernelspec": {
   "display_name": "Python 3",
   "language": "python",
   "name": "python3"
  },
  "language_info": {
   "codemirror_mode": {
    "name": "ipython",
    "version": 3
   },
   "file_extension": ".py",
   "mimetype": "text/x-python",
   "name": "python",
   "nbconvert_exporter": "python",
   "pygments_lexer": "ipython3",
   "version": "3.7.4"
  }
 },
 "nbformat": 4,
 "nbformat_minor": 4
}
