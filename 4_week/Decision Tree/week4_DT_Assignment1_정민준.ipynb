{
 "cells": [
  {
   "cell_type": "markdown",
   "metadata": {},
   "source": [
    "# DT Assignment1"
   ]
  },
  {
   "cell_type": "markdown",
   "metadata": {},
   "source": [
    "# Data Loading"
   ]
  },
  {
   "cell_type": "code",
   "execution_count": 9,
   "metadata": {},
   "outputs": [],
   "source": [
    "import pandas as pd \n",
    "import numpy as np\n",
    "from itertools import combinations"
   ]
  },
  {
   "cell_type": "code",
   "execution_count": 10,
   "metadata": {
    "scrolled": true
   },
   "outputs": [],
   "source": [
    "pd_data = pd.read_csv('https://raw.githubusercontent.com/AugustLONG/ML01/master/01decisiontree/AllElectronics.csv')\n",
    "pd_data.drop(\"RID\",axis=1, inplace = True) #RID는 그냥 순서라서 삭제"
   ]
  },
  {
   "cell_type": "markdown",
   "metadata": {},
   "source": [
    "# 1. Gini 계수를 구하는 함수 만들기"
   ]
  },
  {
   "cell_type": "markdown",
   "metadata": {},
   "source": [
    "- Input: df(데이터), label(타겟변수명)\n",
    "- 해당 결과는 아래와 같이 나와야 합니다."
   ]
  },
  {
   "cell_type": "code",
   "execution_count": 11,
   "metadata": {},
   "outputs": [],
   "source": [
    "def get_gini(df, label):\n",
    "    Yes_num = 0\n",
    "    No_num = 0\n",
    "    for i in df[label]:\n",
    "        if i == 'yes':\n",
    "            Yes_num += 1\n",
    "        else:\n",
    "            No_num += 1\n",
    "\n",
    "    gini = 1 - (((Yes_num / (Yes_num + No_num))**2 + (No_num / (Yes_num + No_num))**2))\n",
    "    return gini"
   ]
  },
  {
   "cell_type": "code",
   "execution_count": 12,
   "metadata": {},
   "outputs": [
    {
     "data": {
      "text/plain": [
       "0.4591836734693877"
      ]
     },
     "execution_count": 12,
     "metadata": {},
     "output_type": "execute_result"
    }
   ],
   "source": [
    "get_gini(pd_data,'class_buys_computer')"
   ]
  },
  {
   "cell_type": "markdown",
   "metadata": {},
   "source": [
    "# 2. Feature의 Class를 이진 분류로 만들기\n",
    " ## ex) {A,B,C} -> ({A}, {B,C}), ({B}, {A,C}), ({C}, {A,B})"
   ]
  },
  {
   "cell_type": "markdown",
   "metadata": {},
   "source": [
    "- Input: df(데이터), attribute(Gini index를 구하고자 하는 변수명)\n",
    "- 해당 결과는 아래와 같이 나와야 합니다."
   ]
  },
  {
   "cell_type": "code",
   "execution_count": 13,
   "metadata": {},
   "outputs": [],
   "source": [
    "def get_binary_split(df, attribute):\n",
    "    result = []\n",
    "    temp = []\n",
    "\n",
    "    kkk = set(list(combinations(df[attribute], 1))) #조합 중복제거하고 만들기\n",
    "\n",
    "    for i in kkk:\n",
    "        temp.append((list(i)[0])) # 리스트 형변환\n",
    "\n",
    "    x = len(temp)\n",
    "    for index in range(1 << x):\n",
    "        result.append([temp[j] for j in range(x) if (index & (1 << j))]) # 부분조합 만들기\n",
    "\n",
    "    return result[1:-1]"
   ]
  },
  {
   "cell_type": "code",
   "execution_count": 14,
   "metadata": {
    "scrolled": true
   },
   "outputs": [
    {
     "data": {
      "text/plain": [
       "[['senior'],\n",
       " ['youth'],\n",
       " ['senior', 'youth'],\n",
       " ['middle_aged'],\n",
       " ['senior', 'middle_aged'],\n",
       " ['youth', 'middle_aged']]"
      ]
     },
     "execution_count": 14,
     "metadata": {},
     "output_type": "execute_result"
    }
   ],
   "source": [
    "get_binary_split(pd_data, \"age\")"
   ]
  },
  {
   "cell_type": "markdown",
   "metadata": {},
   "source": [
    "# 3. 다음은 모든 이진분류의 경우의 Gini index를 구하는 함수 만들기\n",
    "- 위에서 완성한 두 함수를 사용하여 만들어주세요!\n",
    "- 해당 결과는 아래와 같이 나와야 합니다.\n",
    "- 결과로 나온 Dictionary의 Key 값은 해당 class 들로 이루어진 tuple 형태로 들어가 있습니다."
   ]
  },
  {
   "cell_type": "code",
   "execution_count": 15,
   "metadata": {},
   "outputs": [],
   "source": [
    "def get_attribute_gini_index(df, attribute, label):\n",
    "    result = {}\n",
    "    feature = get_binary_split(df, attribute)\n",
    "\n",
    "    for context in feature:\n",
    "        context_num = 0 # 해당 속성 갯수\n",
    "        not_context_num = 0 # 해당 속성 제외 갯수\n",
    "\n",
    "        context_yes = 0 # 해당 속성 yes 갯수\n",
    "        context_no = 0 # 해당 속성 no 갯수\n",
    "\n",
    "        not_context_yes = 0 # 해당 속성 제외 yes 갯수\n",
    "        not_context_no = 0 # 해당 속성 제외 no 갯수\n",
    "\n",
    "        context_df = df[[attribute, label]] # 필요변수만 가지고 새로운 데이터프레임 생성\n",
    "\n",
    "        for i in context_df.values:\n",
    "            if i[0] in context and i[1] == 'yes':\n",
    "                context_num += 1\n",
    "                context_yes += 1\n",
    "\n",
    "            elif i[0] in context and i[1] == 'no':\n",
    "                context_num += 1\n",
    "                context_no += 1\n",
    "\n",
    "            elif i[0] not in context and i[1] == 'yes':\n",
    "                not_context_num += 1\n",
    "                not_context_yes += 1\n",
    "            else:\n",
    "                not_context_num += 1\n",
    "                not_context_no += 1\n",
    "\n",
    "        s = \",\".join(context) # 딕셔너리에 넣을 키값 만들기, 리스트 형식을 문자열로\n",
    "\n",
    "        # 아래는 수식계산입니다.\n",
    "        result[s] = (context_num / (context_num + not_context_num)) * (1 - (\n",
    "                (context_yes / (context_yes + context_no)) ** 2 + (context_no / (context_yes + context_no)) ** 2)) + \\\n",
    "                             (not_context_num / (context_num + not_context_num)) * (1 - (\n",
    "                (not_context_yes / (not_context_yes + not_context_no)) ** 2 + (not_context_no / (not_context_yes + not_context_no)) ** 2))\n",
    "\n",
    "    return result"
   ]
  },
  {
   "cell_type": "code",
   "execution_count": 16,
   "metadata": {
    "scrolled": true
   },
   "outputs": [
    {
     "data": {
      "text/plain": [
       "{'senior': 0.45714285714285713,\n",
       " 'youth': 0.3936507936507937,\n",
       " 'senior,youth': 0.35714285714285715,\n",
       " 'middle_aged': 0.35714285714285715,\n",
       " 'senior,middle_aged': 0.3936507936507937,\n",
       " 'youth,middle_aged': 0.45714285714285713}"
      ]
     },
     "execution_count": 16,
     "metadata": {},
     "output_type": "execute_result"
    }
   ],
   "source": [
    "get_attribute_gini_index(pd_data, \"age\", \"class_buys_computer\")"
   ]
  },
  {
   "cell_type": "markdown",
   "metadata": {},
   "source": [
    "여기서 가장 작은 Gini index값을 가지는 class를 기준으로 split해야겠죠?\n",
    "\n",
    "결과를 확인해보도록 하겠습니다."
   ]
  },
  {
   "cell_type": "code",
   "execution_count": 17,
   "metadata": {},
   "outputs": [
    {
     "name": "stdout",
     "output_type": "stream",
     "text": [
      "Min - senior,youth : 0.35714285714285715\n"
     ]
    }
   ],
   "source": [
    "my_dict = get_attribute_gini_index(pd_data, \"age\", \"class_buys_computer\")\n",
    "key_min = min(my_dict.keys(), key=(lambda k: my_dict[k]))\n",
    "print('Min -',key_min, \":\", my_dict[key_min])"
   ]
  },
  {
   "cell_type": "markdown",
   "metadata": {},
   "source": [
    "# 다음의 문제를 위에서 작성한 함수를 통해 구한 값으로 보여주세요!\n",
    "## 문제1) 변수 ‘income’의 이진분류 결과를 보여주세요.\n",
    "\n",
    "## 문제2) 분류를 하는 데 가장 중요한 변수를 선정하고, 해당 변수의 Gini index를 제시해주세요.\n",
    "\n",
    "## 문제3) 문제 2에서 제시한 feature로 DataFrame을 split한 후 나눠진 2개의 DataFrame에서 각각   다음으로 중요한 변수를 선정하고 해당 변수의 Gini index를 제시해주세요."
   ]
  },
  {
   "cell_type": "code",
   "execution_count": 18,
   "metadata": {},
   "outputs": [
    {
     "data": {
      "text/plain": [
       "[['low'],\n",
       " ['medium'],\n",
       " ['low', 'medium'],\n",
       " ['high'],\n",
       " ['low', 'high'],\n",
       " ['medium', 'high']]"
      ]
     },
     "execution_count": 18,
     "metadata": {},
     "output_type": "execute_result"
    }
   ],
   "source": [
    "get_binary_split(pd_data, \"income\")"
   ]
  },
  {
   "cell_type": "code",
   "execution_count": 19,
   "metadata": {},
   "outputs": [
    {
     "name": "stdout",
     "output_type": "stream",
     "text": [
      "{'senior': 0.45714285714285713, 'youth': 0.3936507936507937, 'senior,youth': 0.35714285714285715, 'middle_aged': 0.35714285714285715, 'senior,middle_aged': 0.3936507936507937, 'youth,middle_aged': 0.45714285714285713}\n",
      "{'low': 0.45, 'medium': 0.4583333333333333, 'low,medium': 0.4428571428571429, 'high': 0.4428571428571429, 'low,high': 0.4583333333333333, 'medium,high': 0.45}\n",
      "{'yes': 0.3673469387755103, 'no': 0.3673469387755103}\n",
      "{'excellent': 0.42857142857142855, 'fair': 0.42857142857142855}\n"
     ]
    }
   ],
   "source": [
    "print(get_attribute_gini_index(pd_data, \"age\", \"class_buys_computer\"))\n",
    "print(get_attribute_gini_index(pd_data, \"income\", \"class_buys_computer\"))\n",
    "print(get_attribute_gini_index(pd_data, \"student\", \"class_buys_computer\"))\n",
    "print(get_attribute_gini_index(pd_data, \"credit_rating\", \"class_buys_computer\"))"
   ]
  },
  {
   "cell_type": "markdown",
   "metadata": {},
   "source": [
    "여기서 age 변수의 지니변수가 다른변수와 비교하였을 때 가장 낮음"
   ]
  },
  {
   "cell_type": "code",
   "execution_count": 20,
   "metadata": {
    "scrolled": true
   },
   "outputs": [
    {
     "name": "stdout",
     "output_type": "stream",
     "text": [
      "Min - senior,youth : 0.35714285714285715\n"
     ]
    }
   ],
   "source": [
    "my_dict = get_attribute_gini_index(pd_data, \"age\", \"class_buys_computer\")\n",
    "key_min = min(my_dict.keys(), key=(lambda k: my_dict[k]))\n",
    "print('Min -',key_min, \":\", my_dict[key_min])"
   ]
  },
  {
   "cell_type": "code",
   "execution_count": null,
   "metadata": {},
   "outputs": [],
   "source": []
  }
 ],
 "metadata": {
  "kernelspec": {
   "display_name": "Python 3",
   "language": "python",
   "name": "python3"
  },
  "language_info": {
   "codemirror_mode": {
    "name": "ipython",
    "version": 3
   },
   "file_extension": ".py",
   "mimetype": "text/x-python",
   "name": "python",
   "nbconvert_exporter": "python",
   "pygments_lexer": "ipython3",
   "version": "3.7.4"
  }
 },
 "nbformat": 4,
 "nbformat_minor": 4
}
